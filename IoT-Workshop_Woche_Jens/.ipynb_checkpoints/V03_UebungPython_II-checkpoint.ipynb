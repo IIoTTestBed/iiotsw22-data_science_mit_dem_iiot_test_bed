{
 "cells": [
  {
   "cell_type": "markdown",
   "metadata": {},
   "source": [
    "# Einführung in die Python-Programmierung II"
   ]
  },
  {
   "cell_type": "markdown",
   "metadata": {},
   "source": [
    "### Nutzung von Bibliotheken\n",
    "\n",
    "Ein Grund für die Beliebtheit von Python ist, dass es eine erstaunlich große Sammlung von Bibliotheken gibt, mit denen die Benutzer arbeiten können.\n",
    "\n",
    "Quelle: https://lerneprogrammieren.de/python-bibliotheken/\n",
    "<br>\n",
    "<br>\n",
    "<br>\n",
    "Eine Bibliothek ist eine Sammlung von Funktionen oder Klassen, die eine Programmiersprache um weitere Befehle erweitert.\n",
    "Bei Python spricht man von Modulen statt von Bibliotheken, das Prinzip ist aber dasselbe. \n",
    "Damit die Funktionen der Bibliothek verwendet werden können, muss die Bibliothek zunächst importiert werden. Das bedeutet, dass eine Zeile Code geschrieben werden muss, die die Datei mit den Klassen- und Funktionsdefinitionen unserer Entwicklungsumgebung hinzufügt. Einige Bibliotheken sind standardmäßig verfügbar, andere müssen extra hinzugefügt werden. <br>\n",
    "\n",
    "Quelle: https://www3.tuhh.de/itbh/informatik-202021/veranstaltungsskript/python/processingpy/programmiergrundlagen/bibliotheken/"
   ]
  },
  {
   "cell_type": "markdown",
   "metadata": {},
   "source": [
    "### Bibliothek Pandas"
   ]
  }
 ],
 "metadata": {
  "kernelspec": {
   "display_name": "Python 3 (ipykernel)",
   "language": "python",
   "name": "python3"
  },
  "language_info": {
   "codemirror_mode": {
    "name": "ipython",
    "version": 3
   },
   "file_extension": ".py",
   "mimetype": "text/x-python",
   "name": "python",
   "nbconvert_exporter": "python",
   "pygments_lexer": "ipython3",
   "version": "3.9.7"
  }
 },
 "nbformat": 4,
 "nbformat_minor": 2
}
