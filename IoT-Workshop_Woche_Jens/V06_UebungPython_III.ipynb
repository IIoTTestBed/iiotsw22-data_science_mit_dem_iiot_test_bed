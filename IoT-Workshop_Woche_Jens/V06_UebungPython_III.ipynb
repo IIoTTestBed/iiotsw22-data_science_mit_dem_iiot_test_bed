{
 "cells": [
  {
   "cell_type": "markdown",
   "metadata": {},
   "source": [
    "# Einführung in die Python-Programmierung III"
   ]
  },
  {
   "cell_type": "markdown",
   "metadata": {},
   "source": [
    "### Datenvisualisierung mit pandas\n",
    "\n",
    "<img style=\"float: right;\" src=\"Bilder_IoT_WW/pandas_plot.png\" width=\"400\"> pandas bietet Ihnen die Möglichkeit, Ihre Daten mit Hilfe von Matplotlib sofort zu plotten. Sie können den Plot-Typ (Scatter, Bar, Boxplot,...) auswählen, der Ihren Daten entspricht.\n",
    "\n",
    "Quelle: https://pandas.pydata.org/docs/getting_started/index.html"
   ]
  },
  {
   "cell_type": "markdown",
   "metadata": {},
   "source": [
    "### Aufgabe\n",
    "\n",
    "Informieren Sie sich zu Möglichkeiten der Datenvisualisierung über pandas: https://pandas.pydata.org/docs/user_guide/index.html\n",
    "\n",
    "Wie würden Sie bei der Datenvisualisierung vorgehen, um die generierten Informationen grafisch darzustellen? <br>\n",
    "Welche Plots würden Sie wofür nutzen?\n",
    "(Orientierung an Fragen 07-10 der Methode von John B. Rollins)"
   ]
  },
  {
   "cell_type": "markdown",
   "metadata": {},
   "source": [
    "*... Ihre Anmerkungen ...*"
   ]
  }
 ],
 "metadata": {
  "kernelspec": {
   "display_name": "Python 3 (ipykernel)",
   "language": "python",
   "name": "python3"
  },
  "language_info": {
   "codemirror_mode": {
    "name": "ipython",
    "version": 3
   },
   "file_extension": ".py",
   "mimetype": "text/x-python",
   "name": "python",
   "nbconvert_exporter": "python",
   "pygments_lexer": "ipython3",
   "version": "3.9.12"
  }
 },
 "nbformat": 4,
 "nbformat_minor": 2
}
