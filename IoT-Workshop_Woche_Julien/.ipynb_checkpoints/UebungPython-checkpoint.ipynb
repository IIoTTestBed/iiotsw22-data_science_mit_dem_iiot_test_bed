{
 "cells": [
  {
   "cell_type": "markdown",
   "metadata": {},
   "source": [
    "## Variablen und Datentypen\n",
    "\n",
    "Diese Übung enthält Aufgaben, die zeigen, wie Variablen benutzt werden, um mit Daten zu arbeiten und\n",
    "diese zu speichern.\n",
    "Es demonstriert die Unterschiede zwischen elementaren Datentypen und verdeutlicht, wie wichtig das Bewusstsein für diese Datentypen ist.\n",
    "\n",
    "Literaturhinweise:  \n",
    "Theis, Thomas (2017). Einstieg in Python.Rheinwerk, 2017, S. 23-27  \n",
    "Kofler, Michael (2019). Python\n",
    "https://www.tutorialspoint.com/python/python_variable_types.htm  \n",
    "weiterführend: https://www.python-kurs.eu/python3_variablen.php  "
   ]
  },
  {
   "cell_type": "markdown",
   "metadata": {},
   "source": [
    "### Aufgabe 1\n",
    "Was passiert in den folgenden Zeilen?\n",
    "Erläutern Sie jede einzelne Zeile!"
   ]
  },
  {
   "cell_type": "code",
   "execution_count": null,
   "metadata": {
    "scrolled": false
   },
   "outputs": [],
   "source": [
    "a=1   #Wertzuweisung des Wertes 1 zur Variable a\n",
    "print(a)  #Ausgabe des Wertes der Variable a\n",
    "b=a+2   #Variable b wird über Addition des Variablenwertes von a und des Wertes 2 bestimmt\n",
    "print(b)   #Ausgabe des über die Rechenfomel ermittelten Wertes der Variable b \n",
    "print(type(a))   #Ausgabe der Typeninformation der Variable a"
   ]
  },
  {
   "cell_type": "markdown",
   "metadata": {},
   "source": [
    "*... hier kommen ihre Erläuterungen ...*\n",
    "\n",
    "\n",
    "\n",
    "\n",
    "**Vergleichen, besprechen und ggf. korrigieren Sie die Erläuterungen mit einem anderen Studenten!**"
   ]
  },
  {
   "cell_type": "markdown",
   "metadata": {},
   "source": [
    "### Aufgabe 2\n",
    "Welche Datentypen werden im folgenden Beispiel gezeigt?\n"
   ]
  },
  {
   "cell_type": "code",
   "execution_count": 1,
   "metadata": {},
   "outputs": [
    {
     "name": "stdout",
     "output_type": "stream",
     "text": [
      "<class 'int'>\n"
     ]
    }
   ],
   "source": [
    "a=32456733  #integer\n",
    "b=3.141592   #float\n",
    "f='Have fun!'  #string\n",
    "l=True  #boolean\n",
    "print(type(a))"
   ]
  },
  {
   "cell_type": "markdown",
   "metadata": {},
   "source": [
    "### Aufgabe 3\n",
    "Verwenden Sie den Quelltext von Aufgabe 2 und ergänzen Sie Zeilen zur \n",
    "Anzeige der Variablenwerte und der Datentypen der Variablen!"
   ]
  },
  {
   "cell_type": "code",
   "execution_count": 3,
   "metadata": {},
   "outputs": [
    {
     "name": "stdout",
     "output_type": "stream",
     "text": [
      "<class 'int'>\n",
      "<class 'float'>\n",
      "<class 'str'>\n",
      "<class 'bool'>\n"
     ]
    }
   ],
   "source": [
    "a=32456733  #integer\n",
    "print(type(a))\n",
    "b=3.141592   #float\n",
    "print(type(b))\n",
    "f='Have fun!'  #string\n",
    "print(type(f))\n",
    "l=True  #boolean\n",
    "print(type(l))"
   ]
  },
  {
   "cell_type": "markdown",
   "metadata": {},
   "source": [
    "### Aufgabe 4\n",
    "Schreiben Sie ein Programm zur Berechnung der Werte PI/4, PI/2, 2PI unter Verwendung einer Variablen pi.\n",
    "Zeigen Sie die berechneten Werte an!\n",
    "\n",
    "Führen Sie das Programm aus und prüfen Sie das Ergebnis!"
   ]
  },
  {
   "cell_type": "code",
   "execution_count": 9,
   "metadata": {},
   "outputs": [
    {
     "name": "stdout",
     "output_type": "stream",
     "text": [
      "A = 0.7857142857142857 ;  B = 1.5714285714285714 ;  C = 6.285714285714286\n"
     ]
    }
   ],
   "source": [
    "pi = 22/7\n",
    "A = pi/4\n",
    "B = pi/2\n",
    "C = 2*pi\n",
    "print(\"A =\",A,\"; \", \"B =\",B,\"; \", \"C =\",C)"
   ]
  },
  {
   "cell_type": "markdown",
   "metadata": {},
   "source": [
    "### Aufgabe 5\n",
    "Was passiert im folgenden Programm? Beurteilen Sie das Programm!"
   ]
  },
  {
   "cell_type": "code",
   "execution_count": 11,
   "metadata": {
    "scrolled": true
   },
   "outputs": [
    {
     "name": "stdout",
     "output_type": "stream",
     "text": [
      "24\n",
      "<class 'int'>\n",
      "6.0\n",
      "<class 'float'>\n",
      "so far so cool :-)\n",
      "42.0 <class 'float'>\n"
     ]
    }
   ],
   "source": [
    "a=12   #Variable a hat Wert 12\n",
    "a=a*2   # Variable a hat Wert 24\n",
    "b=a/4   # Variable b hat Wert 6\n",
    "\n",
    "print(a)  #Ausgabe Wert von Variable a = 24\n",
    "print(type(a))\n",
    "print(b)   #Ausgabe Wert von Variable b = 6\n",
    "print(type(b))\n",
    "\n",
    "c=\"so far so cool :-)\"   #Variable c hat Zeichenkette \"so far so cool :-)\"\n",
    "print(c)   #Ausgabe der Zeichenkette der Variable c\n",
    "c=b*7   #Variable c wird Wert aus Formel zugewiesen = 42\n",
    "print(c, type(c))   #Ausgabe Wert der Variable c sowie Typinfo von Variable c"
   ]
  },
  {
   "cell_type": "markdown",
   "metadata": {},
   "source": [
    "Warum erhalte ich bei der Multiplikation einen Typ Integer und bei der Division Typ float?\n",
    "...\n",
    "Warum erhalte ich bei der zweiten Multiplikation einen Typ float?\n",
    "> Weil hier mit einem float-Typ \"b\" multipliziert wurde"
   ]
  },
  {
   "cell_type": "markdown",
   "metadata": {},
   "source": [
    "***\n",
    "## Zusammenfassung - das habe ich gelernt\n",
    "\n",
    "*... hier kommen die Erkenntnisse ...*\n",
    "***"
   ]
  },
  {
   "cell_type": "markdown",
   "metadata": {},
   "source": [
    "## Übungsaufgaben ##\n",
    "\n",
    "Schreiben Sie mindestens zwei der vorgeschlagenen Programme sowie ein beliebiges weiteres Programm!  \n",
    "Führen Sie die Programme einem Kursteilnehmer vor und erläutern Sie ihre Lösungen.\n",
    "\n",
    "- Berechnung der Kreisfläche in Abhängigkeit vom Radius.\n",
    "- Umrechung einer Temperatur von Grad Celsius in Fahrenheit.\n",
    "- Umrechnung von Geldbeträgen bei gegebenem Wechselkurs.\n",
    "- ...."
   ]
  },
  {
   "cell_type": "code",
   "execution_count": 10,
   "metadata": {},
   "outputs": [
    {
     "name": "stdout",
     "output_type": "stream",
     "text": [
      "Radius des Kreises in cm: 13\n",
      "Die Kreisfläche beträgt:  40.857142857142854 cm²\n"
     ]
    }
   ],
   "source": [
    "#Berechnung der Kreisfläche\n",
    "Radius = input(\"Radius des Kreises in cm: \")   #Eingabe des Radius\n",
    "pi = 22/7\n",
    "\n",
    "Radius = float(Radius)   #Ohne die Umwandlung in float wird eine Fehlermeldung ausgegeben, da Radius als Typ string übernommen wird\n",
    "Kreisfläche = Radius * pi\n",
    "print(\"Die Kreisfläche beträgt: \", Kreisfläche,\"cm²\")"
   ]
  },
  {
   "cell_type": "code",
   "execution_count": 11,
   "metadata": {},
   "outputs": [
    {
     "name": "stdout",
     "output_type": "stream",
     "text": [
      "Geben Sie die Temperatur in Grad Celsius an: 20\n",
      "20.0 Grad Celsius entspricht 68.0 Fahrenheit.\n"
     ]
    }
   ],
   "source": [
    "#Umrechung einer Temperatur von Grad Celsius in Fahrenheit\n",
    "Temperatur = input(\"Geben Sie die Temperatur in Grad Celsius an: \")\n",
    "Temperatur = float(Temperatur)\n",
    "\n",
    "Fahrenheit = (Temperatur * 9/5) + 32\n",
    "print(Temperatur, \"Grad Celsius entspricht\", Fahrenheit, \"Fahrenheit.\")"
   ]
  },
  {
   "cell_type": "code",
   "execution_count": 7,
   "metadata": {},
   "outputs": [
    {
     "name": "stdout",
     "output_type": "stream",
     "text": [
      "Radius angeben: 10\n",
      "314.1592653589793\n"
     ]
    }
   ],
   "source": [
    "import math  #Bibliothek \"math\" importieren, um bspw. Funktion \"math.pi\" (Zeile 5) nutzen zu können\n",
    "\n",
    "def area(radius):   #Funktion \"area\" erstellen\n",
    "    area = 0.0   # Wert an \"area\" übergeben (guter Programmierstil)\n",
    "    area = math.pi * radius * radius   #Variable \"area\" berechnen \n",
    "    return area   #Wertrückgabe\n",
    "\n",
    "radius = float(input(\"Radius angeben: \"))   #Radius eigeben\n",
    "print(area(radius))   #Berechnung der Kreisfläche mit Ausgabe des Ergebnisses"
   ]
  },
  {
   "cell_type": "code",
   "execution_count": 13,
   "metadata": {},
   "outputs": [
    {
     "name": "stdout",
     "output_type": "stream",
     "text": [
      "Stundenzahl: 10\n",
      "10 Stunden entspricht 600 Minuten oder 36000 Sekunden.\n"
     ]
    }
   ],
   "source": [
    "#Umrechnung von Stunden in Minuten und Sekunden\n",
    "Stunden = input(\"Stundenzahl: \")\n",
    "Stunden = int(Stunden)\n",
    "\n",
    "Minuten = Stunden * 60\n",
    "Sekunden = Stunden * 3600\n",
    "\n",
    "print(Stunden, \"Stunden entspricht\", Minuten, \"Minuten oder\", Sekunden, \"Sekunden.\")"
   ]
  }
 ],
 "metadata": {
  "kernelspec": {
   "display_name": "Python 3 (ipykernel)",
   "language": "python",
   "name": "python3"
  },
  "language_info": {
   "codemirror_mode": {
    "name": "ipython",
    "version": 3
   },
   "file_extension": ".py",
   "mimetype": "text/x-python",
   "name": "python",
   "nbconvert_exporter": "python",
   "pygments_lexer": "ipython3",
   "version": "3.9.7"
  }
 },
 "nbformat": 4,
 "nbformat_minor": 2
}
