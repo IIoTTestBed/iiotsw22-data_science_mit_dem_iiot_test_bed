{
 "cells": [
  {
   "cell_type": "code",
   "execution_count": 5,
   "metadata": {},
   "outputs": [
    {
     "name": "stdout",
     "output_type": "stream",
     "text": [
      "Wie ist dein Name?Julien\n"
     ]
    }
   ],
   "source": [
    "name = input(\"Wie ist dein Name?\")"
   ]
  },
  {
   "cell_type": "code",
   "execution_count": 6,
   "metadata": {},
   "outputs": [
    {
     "name": "stdout",
     "output_type": "stream",
     "text": [
      "Hallo  Julien\n"
     ]
    }
   ],
   "source": [
    "print(\"Hallo \", name)"
   ]
  },
  {
   "cell_type": "code",
   "execution_count": 28,
   "metadata": {},
   "outputs": [
    {
     "name": "stdout",
     "output_type": "stream",
     "text": [
      "4 ['0', 1, 2, 3]\n",
      "gerade 0\n",
      "ungerade 3\n",
      "gerade 6\n",
      "ungerade 9\n"
     ]
    }
   ],
   "source": [
    "# Kommentar\n",
    "\"\"\"\n",
    "myNum = 2 \n",
    "myStr = \"String\"\n",
    "myStr = input(\"Deine Lieblingszahl \")\n",
    "myNum = int(myStr)\n",
    "\"\"\"\n",
    "\n",
    "#myFloat = 12.34\n",
    "\n",
    "#print(\"Datentyp von myFloat: \" + str(type(myFloat)))\n",
    "\n",
    "myList = [1,2,3]\n",
    "myList.append(4)\n",
    "myList.insert(0,\"0\")\n",
    "myElement = myList.pop()\n",
    "print(myElement, myList)\n",
    "\n",
    "for i in myList:\n",
    "    myResult = int(i)*3\n",
    "    if (myResult % 2) == 0:\n",
    "        print(\"gerade\" , myResult)\n",
    "    else:\n",
    "        print(\"ungerade\" ,myResult)"
   ]
  },
  {
   "cell_type": "code",
   "execution_count": 2,
   "metadata": {},
   "outputs": [
    {
     "name": "stdout",
     "output_type": "stream",
     "text": [
      "Wie ist dein Name?Julien\n",
      "0 Julien\n",
      "1 lerne\n",
      "2 gerade\n",
      "3 Phyton\n"
     ]
    }
   ],
   "source": [
    "name = input(\"Wie ist dein Name?\")\n",
    "\n",
    "myStr = \"Ich lerne gerade Phyton\"\n",
    "myList = myStr.split(\" \")\n",
    "\n",
    "myList[0] = name\n",
    "\n",
    "#print(len(myList))\n",
    "\n",
    "for k, v in enumerate(myList):\n",
    "    print(k, v)\n",
    "\n"
   ]
  },
  {
   "cell_type": "code",
   "execution_count": 8,
   "metadata": {},
   "outputs": [
    {
     "name": "stdout",
     "output_type": "stream",
     "text": [
      "Rückgabe Betrag in der Form: Euro,Cent7,69\n",
      "3 x 200\n",
      "1 x 100\n",
      "1 x 50\n",
      "1 x 10\n",
      "1 x 5\n",
      "2 x 2\n"
     ]
    }
   ],
   "source": [
    "# name = input(\"Geldbetrag\")\n",
    "\n",
    "# myList = [0.01,0.02,0.05,0.1,0.2,0.5,1,2]\n",
    "\n",
    "# if (Rest)betrag > 2 dann 2€ Stück else 1 € Stück usw. \n",
    "\n",
    "#           0,1,2, 3, 4, 5, 6, 7\n",
    "Waehrung = [1,2,5,10,20,50,100,200]\n",
    "Ausgabe  = [0,0,0, 0, 0, 0,  0,  0]\n",
    "\n",
    "Ausgabebetrag = input(\"Rückgabe Betrag in der Form: Euro,Cent\")\n",
    "aeuro = Ausgabebetrag.split(\",\")\n",
    "\n",
    "euro = int(aeuro[0])         # int('3') -> int: 3\n",
    "cent = int(aeuro[1])         # int('51')\n",
    "\n",
    "temp = (euro*100) + cent    # 351\n",
    "\n",
    "# t=0   351 -> kann ich noch 200 abziehen\n",
    "#       ja: also 351-200 = 151\n",
    "# t=1   151 -> kann ich noch 200 abziehen\n",
    "#       nein: also: wechsel zur nächstkleineren Münze und pruefe erneut \n",
    "#       151 -> kann ich noch 100 abzeiehen\n",
    "#       ja: ...\n",
    "\n",
    "\n",
    "i = len(Waehrung)-1 \n",
    "\n",
    "while temp > 0:\n",
    "    if (temp - Waehrung [i] >= 0):\n",
    "        Ausgabe[i] = Ausgabe [i] + 1  #Ausgabe um eine Münze erhöhen \n",
    "        temp = temp - Waehrung[i]     # Temp Betrag um den Wert der Münze reduzieren \n",
    "    else:\n",
    "        i-=1                          # i = i-1 \n",
    "    \n",
    "i = len(Waehrung)-1 \n",
    "while i >= 0: \n",
    "    if (Ausgabe[i] >0):\n",
    "        print(str(Ausgabe[i]) + \" x \" + str(Waehrung[i]))\n",
    "    i-=1\n",
    "    \n",
    "  \n",
    "\n",
    "\n",
    "\n"
   ]
  },
  {
   "cell_type": "code",
   "execution_count": null,
   "metadata": {},
   "outputs": [],
   "source": []
  }
 ],
 "metadata": {
  "kernelspec": {
   "display_name": "Python 3",
   "language": "python",
   "name": "python3"
  },
  "language_info": {
   "codemirror_mode": {
    "name": "ipython",
    "version": 3
   },
   "file_extension": ".py",
   "mimetype": "text/x-python",
   "name": "python",
   "nbconvert_exporter": "python",
   "pygments_lexer": "ipython3",
   "version": "3.8.8"
  }
 },
 "nbformat": 4,
 "nbformat_minor": 2
}
