{
 "cells": [
  {
   "cell_type": "markdown",
   "metadata": {},
   "source": [
    "## Data Science I\n",
    "\n",
    "*„Data science is an exciting discipline that allows you to turn raw data into understanding, insight, and knowledge.”*\n",
    "\n",
    "Quelle: R for Data Science by Hardley Wickham & Garrett Grolemund (https://r4ds.had.co.nz/introduction.html)"
   ]
  },
  {
   "cell_type": "markdown",
   "metadata": {},
   "source": [
    "Data Science beginnt damit, sich Zeit zu nehmen, um sich Klarheit über das Problem zu verschaffen, welches es zu lösen gilt. Als Ergebnis soll sich das Problem über eine klar definierte Frage adressieren lassen. Eine klar definierte Frage ist von entscheidender Bedeutung, da sie letztlich den analytischen Ansatz vorgibt, der zur Beantwortung der Frage erforderlich ist.\n",
    " \n",
    "Allzu oft wird viel Mühe in die Beantwortung dessen gesteckt, was die Leute DENKEN, dass es sich um die Frage handelt. Die eingesetzten Methoden zur Beantwortung dieser Frage mögen zwar solide sein, tragen aber nicht zur Lösung des eigentlichen Problems bei. \n",
    "Die Formulierung einer klar definierten Frage beginnt mit dem Verständnis des ZIELS der Interessengruppe, welche die Frage stellt.\n",
    "\n",
    "Quelle: https://skillsbuild.org/de, Kurs: „Data Science Methodology“\n"
   ]
  },
  {
   "cell_type": "markdown",
   "metadata": {},
   "source": [
    "**SkillsBuild**\n",
    "\n",
    "\n",
    "\n",
    "<img style=\"float: right;\" src=\"Bilder_IoT_WW/IBM_SB.png\" width=\"200\"> *SkillsBuild ist eine digitale Plattform von IBM CSR (Corporate Social Responsibility), mit der IBM wesentliche Aspekte für das künftige Berufsleben adressiert. So führt das Programm die Teilnehmenden an die Grundlagen des lebenslangen Lernens heran, indem eigenverantwortliches sowie selbstgesteuertes Lernen auf einer Online-Plattform kostenfrei vermittelt wird. Die Teilnehmenden erfahren dabei auch, welche Berufsbilder und Arbeitsplätze eine solide und zukunftsorientierte Beschäftigungsperspektive bieten. Kurse werden u.a. in den Bereichen Cybersicherheit, Data Science, Kundenkontakt und mehr angeboten.*\n",
    "\n",
    "Quelle: https://www.ibm.com/blogs/think/de-de/2020/04/skillsbuild/\n",
    "Bildquelle: https://www.credly.com/organizations/ibm-skillsbuild-students/badges"
   ]
  },
  {
   "attachments": {},
   "cell_type": "markdown",
   "metadata": {},
   "source": [
    "### Data Science Methodik\n",
    "\n",
    "Aktuell gibt es keine exakte oder standardisierte Methodik, an welchen sich Datenwissenschaftler*innen orientieren. Aus diesem Grund wird die Methodik von John B. Rollins vorgeschlagen. Er ist einer der führenden IBM-Ingenieure im Bereich der Datenanalyse.\n",
    "Am Anfang der Methodik von John B. Rollins steht dabei das Problemverständnis, denn wenn man sich Klarheit über das zu lösende Problem verschafft, kann man bestimmen, welche Daten zur Beantwortung der Kernfrage verwendet werden sollen.<br>\n",
    "Quelle: https://skillsbuild.org/de, Kurs: „Data Science Methodology“\n",
    "\n",
    "Die Data Science Methodik kann auf einer bestimmten Abstraktionsebene als Verfeinerung des von der CRISP-DM-Methode (Cross Industry Standard Process for Data Mining) für Data Mining umrissenen Arbeitsablaufs betrachtet werden.<br>\n",
    "(Quelle: https://developer.ibm.com/articles/introduction-watson-studio/)"
   ]
  },
  {
   "cell_type": "markdown",
   "metadata": {},
   "source": [
    "<img style=\"float: left;\" src=\"Bilder_IoT_WW/Meth_CRISP&DS.png\" width=\"900\">"
   ]
  },
  {
   "cell_type": "markdown",
   "metadata": {},
   "source": [
    "Bildquelle: https://developer.ibm.com/articles/introduction-watson-studio/"
   ]
  },
  {
   "cell_type": "markdown",
   "metadata": {},
   "source": [
    "Dabei orientiert sich die Methode von John B. Rollins an folgenden 10 Fragen, welche auf die Aufgabenstellung leicht angepasst wurden:\n",
    "\n",
    "<br> Vom Problem zum Lösungsansatz <br>\n",
    "01. **Was ist das Problem, welches es zu lösen gilt?** <br>\n",
    "02. **Wie kann das Problem mit Hilfe von Daten gelöst werden?** <br>\n",
    "<br> Arbeiten mit Daten <br>\n",
    "03. **Welche Daten werden zur Beantwortung der Frage benötigt?** <br>\n",
    "04. **Woher kommen die Daten (Datenquellen) und wie ist der Zugang zu den Daten?** <br>\n",
    "05. **Sind die Daten ausreichend und repräsentativ, um das Problem zu lösen?** <br>\n",
    "06. **Was ist an zusätzlicher Arbeit zu unternehmen, um mit den Daten arbeiten zu können?** <br>\n",
    "<br> Herleiten der Lösung <br>\n",
    "07. **Wie können die Daten visuell aufbereitet werden, um zur Lösung zu gelangen bzw. diese darzustellen?** <br>\n",
    "08. **Lässt sich das Problem anhand der verfügbaren Daten tatsächlich lösen oder werden Anpassungen benötigt?** <br>\n",
    "09. **Kann das Vorgehen auch auf weitere Daten angewendet werden?** <br>\n",
    "10. **Lässt sich das Problem zufriedenstellen lösen?** <br>"
   ]
  }
 ],
 "metadata": {
  "kernelspec": {
   "display_name": "Python 3 (ipykernel)",
   "language": "python",
   "name": "python3"
  },
  "language_info": {
   "codemirror_mode": {
    "name": "ipython",
    "version": 3
   },
   "file_extension": ".py",
   "mimetype": "text/x-python",
   "name": "python",
   "nbconvert_exporter": "python",
   "pygments_lexer": "ipython3",
   "version": "3.9.7"
  }
 },
 "nbformat": 4,
 "nbformat_minor": 2
}
