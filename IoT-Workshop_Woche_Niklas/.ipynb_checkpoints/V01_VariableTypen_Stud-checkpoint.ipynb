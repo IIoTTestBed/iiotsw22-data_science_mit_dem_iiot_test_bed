{
 "cells": [
  {
   "cell_type": "markdown",
   "metadata": {},
   "source": [
    "### Python - programmieren lernen\n",
    "\n",
    "# 01 - Variablen, Datentypen und Berechnungen\n",
    "\n",
    "- - - "
   ]
  },
  {
   "cell_type": "markdown",
   "metadata": {},
   "source": [
    "#### Mehrwertsteuer-Berechnung\n",
    "\n",
    "Wie wird die Mehrwertsteuer berechnet - wie funktioniert dies in Python?\n",
    "\n",
    "Betrag: 12,37 €   Steuersatz: 10 v.H.   gesucht MWSt = ?"
   ]
  },
  {
   "cell_type": "code",
   "execution_count": 18,
   "metadata": {},
   "outputs": [
    {
     "data": {
      "text/plain": [
       "3"
      ]
     },
     "execution_count": 18,
     "metadata": {},
     "output_type": "execute_result"
    }
   ],
   "source": [
    "12.37 * 10/100\n",
    "8 % 5"
   ]
  },
  {
   "cell_type": "markdown",
   "metadata": {},
   "source": [
    "**Berechnung mit Formel und Variablen**"
   ]
  },
  {
   "cell_type": "markdown",
   "metadata": {},
   "source": [
    "<img style=\"float: left;\" src=\"pic/Abb01.jpg\" width=\"500\"> ... Info text dazu ... -->"
   ]
  },
  {
   "cell_type": "code",
   "execution_count": 12,
   "metadata": {},
   "outputs": [
    {
     "name": "stdout",
     "output_type": "stream",
     "text": [
      "1.5\n",
      "<class 'float'>\n",
      "<class 'int'>\n"
     ]
    }
   ],
   "source": [
    "Betrag = 15   #Wertezuweisung\n",
    "Steuersatz = 10\n",
    "MWSt = Betrag * Steuersatz/100   #Wertezuweisung mit Berechnung\n",
    "print(MWSt)   #Anzeige des Variablenwertes\n",
    "print(type(MWSt))   #Anzeige des Variablentyps\n",
    "print(type(Betrag))"
   ]
  },
  {
   "cell_type": "markdown",
   "metadata": {},
   "source": [
    "**Was fällt hier auf?**\n",
    "- Welche Rechenzeichen stehen für welche Operationen zur Verfügung?\n",
    "- Wir rechnen mit ganzen Zahlen und das Ergebnis ist eine Kommazahl - was steckt dahinter?\n",
    "\n",
    "<img style=\"float: left;\" src=\"pic/Abb01_oper.jpg\" width=\"500\">\n",
    "<img style=\"float: left;\" src=\"pic/Abb01_types.jpg\" width=\"500\">"
   ]
  },
  {
   "cell_type": "markdown",
   "metadata": {},
   "source": [
    "**Berechnung mit Werteeingabe über Tastatur**"
   ]
  },
  {
   "cell_type": "code",
   "execution_count": 20,
   "metadata": {},
   "outputs": [
    {
     "name": "stdout",
     "output_type": "stream",
     "text": [
      "Steuersatz v.H.: 20\n",
      "Rechnungsbetrag EUR: 19\n",
      "Mwst. EUR:  3.8\n"
     ]
    }
   ],
   "source": [
    "Steuersatz = input(\"Steuersatz v.H.: \")      # Werteingabe über Tastatur - ist stets ein String !\n",
    "Betrag = input(\"Rechnungsbetrag EUR: \")\n",
    "Steuersatz = float(Steuersatz)               # Umwandlung des Strings in Gleitkommazahl\n",
    "Betrag = float(Betrag)\n",
    "Mwst = Betrag*Steuersatz/100\n",
    "print(\"Mwst. EUR: \",Mwst)"
   ]
  },
  {
   "cell_type": "markdown",
   "metadata": {},
   "source": [
    "**Das erste Python-Skript**\n",
    "\n",
    "Schreibe den folgenden Python-Code in die Datei vat.py und speichere sie im Verzeichnis scripts! Öffne im jupyter ein neues Terminal und wechsle in das Verzeichnis scripts. Dort wird das Programm wie folgt gestartet: \n",
    "\n",
    "python3 vat.py"
   ]
  },
  {
   "cell_type": "code",
   "execution_count": null,
   "metadata": {},
   "outputs": [],
   "source": [
    "#!/usr/bin/python3\n",
    "\n",
    "# This is a simple python demo to calculate VAT\n",
    "# ---------------------------------------------\n",
    "Steuersatz = input(\"Steuersatz v.H.: \")\n",
    "Betrag = input(\"Rechnungsbetrag EUR: \")\n",
    "Steuersatz=float(Steuersatz)\n",
    "Betrag=float(Betrag)\n",
    "Mwst=Betrag*Steuersatz/100\n",
    "print(\"Mwst. EUR: \",Mwst)"
   ]
  },
  {
   "cell_type": "markdown",
   "metadata": {},
   "source": [
    "***5 Minuten Pause***\n",
    "\n",
    "... Arbeit am Aufgabenblatt 1 :-)"
   ]
  },
  {
   "cell_type": "code",
   "execution_count": null,
   "metadata": {},
   "outputs": [],
   "source": []
  }
 ],
 "metadata": {
  "kernelspec": {
   "display_name": "Python 3 (ipykernel)",
   "language": "python",
   "name": "python3"
  },
  "language_info": {
   "codemirror_mode": {
    "name": "ipython",
    "version": 3
   },
   "file_extension": ".py",
   "mimetype": "text/x-python",
   "name": "python",
   "nbconvert_exporter": "python",
   "pygments_lexer": "ipython3",
   "version": "3.9.7"
  }
 },
 "nbformat": 4,
 "nbformat_minor": 2
}
