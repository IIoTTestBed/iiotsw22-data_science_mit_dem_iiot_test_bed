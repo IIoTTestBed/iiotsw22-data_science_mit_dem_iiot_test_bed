{
 "cells": [
  {
   "cell_type": "markdown",
   "id": "df449c30",
   "metadata": {},
   "source": [
    "## Data Science II"
   ]
  },
  {
   "cell_type": "markdown",
   "id": "504b2464",
   "metadata": {},
   "source": [
    "#### Data Science Methodik\n",
    "\n",
    "Die Data Science Methodik von John B. Rollins, welche auf einer bestimmten Abstraktionsebene als Verfeinerung des von der CRISP-DM-Methode (Cross Industry Standard Process for Data Mining) für Data Mining umrissenen Arbeitsablaufs betrachtet werden. <br>\n",
    "(Quelle: https://skillsbuild.org/de, Kurs: „Data Science Methodology“; https://developer.ibm.com/articles/introduction-watson-studio/)\n"
   ]
  },
  {
   "cell_type": "markdown",
   "id": "124b116a",
   "metadata": {},
   "source": [
    "<img style=\"float: left;\" src=\"Bilder_IoT_WW/Meth_CRISP&DS.png\" width=\"900\">"
   ]
  },
  {
   "cell_type": "markdown",
   "id": "54c28b2f",
   "metadata": {},
   "source": [
    "Bildquelle: https://developer.ibm.com/articles/introduction-watson-studio/"
   ]
  },
  {
   "cell_type": "markdown",
   "id": "b5df8fca",
   "metadata": {},
   "source": [
    "Es wird empfohlen, zur Beantwortung der Fragen 6 und 7 die Nutzung des Modells von Hardley Wickham & Garrett Grolemund aus dem Buch: R for Data Science (https://r4ds.had.co.nz/introduction.html) an Frage 5 anzuschließen. Das Modell stellt Tools bereit, welche für ein in Ihrem Sinne typischen Data-Science-Projekts benötigten werden:"
   ]
  },
  {
   "cell_type": "markdown",
   "id": "d417a8c7",
   "metadata": {},
   "source": [
    "<img style=\"float: left;\" src=\"Bilder_IoT_WW/Modell_DS.png\" width=\"600\">"
   ]
  },
  {
   "cell_type": "markdown",
   "id": "dabb3b90",
   "metadata": {},
   "source": [
    "Bildquelle: https://r4ds.had.co.nz/introduction.html"
   ]
  },
  {
   "cell_type": "markdown",
   "id": "46527318",
   "metadata": {},
   "source": [
    "Zunächst sind die Daten aus einer Datei, einer Datenbank oder einer Webanwendungsprogrammierschnittstelle (API) etc. in eine Umgebung zu importieren, über welche mit ihnen gearbeitet werden kann.\n",
    "\n",
    "Nach dem Import sollten die Daten aufgeräumt werden. Aufräumen bedeutet, die Daten in einer konsistenten Form zu speichern, die der Semantik des Datensatzes und der Art der Speicherung entspricht. Kurz gesagt, wenn die Daten aufgeräumt sind, ist - bspw. bei einer Tabelle - jede Spalte eine Variable und jede Zeile eine Beobachtung. Aufgeräumte Daten sind wichtig, weil die konsistente Struktur es ermöglicht, sich auf Fragen zu den Daten zu konzentrieren und nicht darum zu kämpfen, die Daten in die richtige Form für verschiedene Funktionen zu bringen. Zum Aufräumen zählt auch die Datenbereinigung bzw. -manipulation.\n",
    "\n",
    "An das Aufräumen schließt sich die Datentransformation an. Die Transformation umfasst die Eingrenzung von Beobachtungen, die von Interesse sind (z. B. alle Personen in einer Stadt oder alle Daten des letzten Jahres), die Erstellung neuer Variablen, die Funktionen vorhandener Variablen sind (z. B. die Berechnung der Geschwindigkeit aus Entfernung und Zeit), und die Berechnung einer Reihe von zusammenfassenden Statistiken (z. B. Zählungen oder Mittelwerte). Das Aufräumen und Transformieren wird auch als \"Wrangling\" bezeichnet, weil es sich oft wie ein Kampf anfühlt, die Daten in eine Form zu bringen, mit der man gut arbeiten kann.\n",
    "\n",
    "Sobald aufgeräumte Daten mit ggf. weiteren benötigten Variablen vorhanden sind, gibt es zwei Hauptmotoren der Wissensgenerierung: Visualisierung und Modellierung. Beide haben komplementäre Stärken und Schwächen, so dass bei einer echten Analyse immer wieder zwischen ihnen gewechselt wird.\n",
    "\n",
    "Die Visualisierung ist eine grundsätzlich menschliche Tätigkeit. Eine gute Visualisierung zeigt Dinge, welche eventuell nicht zu erwarten waren, oder neue Fragen zu den Daten aufwerfen. Eine gute Visualisierung kann auch darauf hinweisen, dass die falschen Fragen gestellt wurden oder dass andere/weitere Daten erhoben werden müssen. Visualisierungen können einen überraschen, lassen sich aber nicht besonders gut skalieren, weil sie einen Menschen zur Interpretation benötigen.\n",
    "\n",
    "Modelle sind ergänzende Instrumente zur Visualisierung. Wenn die Fragen hinreichend genau formuliert wurden, können sie mit Hilfe eines Modells beantwortet werden. Modelle sind grundsätzlich ein mathematisches oder rechnerisches Werkzeug, so dass sie im Allgemeinen gut skalierbar sind. Selbst wenn das nicht der Fall ist, ist es in der Regel billiger, mehr Computer als mehr Köpfe zu kaufen! Aber jedes Modell geht von Annahmen aus, und es liegt in der Natur der Sache, dass ein Modell seine eigenen Annahmen nicht in Frage stellen kann. Das bedeutet, dass ein Modell nicht grundlegend überraschende Erkenntnisse liefern kann.\n",
    "\n",
    "Der letzte Schritt der Datenwissenschaft ist die Kommunikation, ein absolut kritischer Teil eines jeden Datenanalyseprojekts. Es spielt keine Rolle, wie gut die Modelle und Visualisierungen zum Verständnis der Daten geführt haben, wenn die Ergebnisse nicht auch anderen vermittelt werden können.\n",
    "\n",
    "(Quelle: R for Data Science; Hardley Wickham & Garrett Grolemund (https://r4ds.had.co.nz/introduction.html))"
   ]
  }
 ],
 "metadata": {
  "kernelspec": {
   "display_name": "Python 3 (ipykernel)",
   "language": "python",
   "name": "python3"
  },
  "language_info": {
   "codemirror_mode": {
    "name": "ipython",
    "version": 3
   },
   "file_extension": ".py",
   "mimetype": "text/x-python",
   "name": "python",
   "nbconvert_exporter": "python",
   "pygments_lexer": "ipython3",
   "version": "3.9.7"
  }
 },
 "nbformat": 4,
 "nbformat_minor": 5
}
