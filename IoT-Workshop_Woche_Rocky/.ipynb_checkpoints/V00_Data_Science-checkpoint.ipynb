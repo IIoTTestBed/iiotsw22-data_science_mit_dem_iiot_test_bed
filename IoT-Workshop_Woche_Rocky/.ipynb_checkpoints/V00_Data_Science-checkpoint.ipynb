{
 "cells": [
  {
   "cell_type": "markdown",
   "metadata": {},
   "source": [
    "## Data Science\n",
    "\n",
    "\n",
    "\n",
    "<img style=\"float: right;\" src=\"pic/Saint-Exupery-800x530.jpg\" width=\"300\">*Wenn Du ein Schiff bauen willst, dann trommle nicht Männer zusammen um Holz zu beschaffen, Aufgaben zu vergeben und die Arbeit einzuteilen, sondern lehre die Männer die Sehnsucht nach dem weiten, endlosen Meer.  \n",
    "Antoine de Saint-Exupery*  \n",
    "\n",
    " --> Motivation: Die eigene und die der Teilnehmer/-innen\n",
    "- bisher keine Programmierkompetenz - aber Programmieren ist notwendig  \n",
    "- Python ist für bestimmte Aufgaben mglw. besser geeignet als C/C++  \n",
    "- Massendatenauswertung in hydrolog. DB mittels Python-Interface  \n",
    "- Elementare Programmiergrundlagen /-konzepte sind heute wichtig (Stichwort Digitalisierung)  \n",
    "- Python als ML-Werkzeug geeignet - wird im Studium kaum/gar nicht behandelt  \n",
    "- Inspiration aus dem Kurskonzept mitnehmen  \n",
    "- - - "
   ]
  },
  {
   "cell_type": "markdown",
   "metadata": {},
   "source": [
    "## Data Science\n",
    "\n",
    "\n",
    "\n",
    "<img style=\"float: right;\" src=\"pic/Saint-Exupery-800x530.jpg\" width=\"300\">*Wenn Du ein Schiff bauen willst, dann trommle nicht Männer zusammen um Holz zu beschaffen, Aufgaben zu vergeben und die Arbeit einzuteilen, sondern lehre die Männer die Sehnsucht nach dem weiten, endlosen Meer.  \n",
    "Antoine de Saint-Exupery*  \n",
    "\n",
    " --> Motivation: Die eigene und die der Teilnehmer/-innen\n",
    "- bisher keine Programmierkompetenz - aber Programmieren ist notwendig  \n",
    "- Python ist für bestimmte Aufgaben mglw. besser geeignet als C/C++  \n",
    "- Massendatenauswertung in hydrolog. DB mittels Python-Interface  \n",
    "- Elementare Programmiergrundlagen /-konzepte sind heute wichtig (Stichwort Digitalisierung)  \n",
    "- Python als ML-Werkzeug geeignet - wird im Studium kaum/gar nicht behandelt  \n",
    "- Inspiration aus dem Kurskonzept mitnehmen  \n",
    "- - - "
   ]
  },
  {
   "cell_type": "markdown",
   "metadata": {},
   "source": [
    "**Credo: Lernen durch eignes praktisches Handeln**  \n",
    "\n",
    "### Organisatorisches   :-)\n",
    "\n",
    "- LV-Organisation: Montag 9.20 Uhr Z355 und Mittwoch 15.10 Uhr Z136B    \n",
    "- Projektarbeit: eigenes Thema in Gruppe zu 3-4 Personen - z.B. Datenauswertung (Meilensteine + Präsentation <<< MP)  \n",
    "\n",
    "- Kurszeit vs Studenplan? Konsultationszeit Dienstag 7.30 Uhr jede Woche - Ri: Raumcheck!  \n",
    "- eigene Notebooks? Geht klar!    \n",
    " \n",
    "\n"
   ]
  },
  {
   "cell_type": "markdown",
   "metadata": {},
   "source": [
    "## Kursinhalt ##\n",
    "\n",
    "... an der Tafel entwickeln Abb0.jpg\n",
    "<img style=\"float: left;\" src=\"pic/Abb0.jpg\" width=\"800\">"
   ]
  },
  {
   "cell_type": "markdown",
   "metadata": {},
   "source": [
    "### Organisatorisches - Technisches   =8-(O\n",
    "\n",
    "**Das Cloud-Drive zur Lehrveranstaltung:**    \n",
    "https://icloud.informatik.htw-dresden.de/owncloud/index.php/s/YRwm6fSVeQprnCR  \n",
    "PythonPL1920\n",
    "\n",
    "**Arbeiten mit jupyter notebook:**  \n",
    "1) Eigenes Arbeitsverzeichnis definieren und dorthin die gewünschten Inhalte aus dem Cloud-Drive herunterladen  \n",
    "2) Consolenfenster öffnen und mit cd ins Arbeitsverzeichnis wechseln  \n",
    "3) jupyter-notebook starten  \n",
    "\n",
    "**Markdown-CheatSheet** --> siehe unten :-)  \n",
    "oder auch https://markdown.de/\n"
   ]
  },
  {
   "cell_type": "code",
   "execution_count": 1,
   "metadata": {},
   "outputs": [
    {
     "data": {
      "text/html": [
       "\n",
       "        <iframe\n",
       "            width=\"1000\"\n",
       "            height=\"500\"\n",
       "            src=\"./MarkdownSyntax.pdf\"\n",
       "            frameborder=\"0\"\n",
       "            allowfullscreen\n",
       "        ></iframe>\n",
       "        "
      ],
      "text/plain": [
       "<IPython.lib.display.IFrame at 0x18396ed8588>"
      ]
     },
     "execution_count": 1,
     "metadata": {},
     "output_type": "execute_result"
    }
   ],
   "source": [
    "from IPython.display import IFrame; IFrame(\"./MarkdownSyntax.pdf\", width=1000, height=500)"
   ]
  },
  {
   "cell_type": "markdown",
   "metadata": {},
   "source": [
    "**Hausaufgabe: - jupyter notebook Installation https://jupyter.org/install.html**"
   ]
  },
  {
   "cell_type": "code",
   "execution_count": null,
   "metadata": {},
   "outputs": [],
   "source": []
  }
 ],
 "metadata": {
  "kernelspec": {
   "display_name": "Python 3 (ipykernel)",
   "language": "python",
   "name": "python3"
  },
  "language_info": {
   "codemirror_mode": {
    "name": "ipython",
    "version": 3
   },
   "file_extension": ".py",
   "mimetype": "text/x-python",
   "name": "python",
   "nbconvert_exporter": "python",
   "pygments_lexer": "ipython3",
   "version": "3.9.7"
  }
 },
 "nbformat": 4,
 "nbformat_minor": 2
}
