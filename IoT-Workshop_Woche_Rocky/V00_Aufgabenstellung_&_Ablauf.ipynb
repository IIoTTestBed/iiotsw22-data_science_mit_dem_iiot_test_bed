{
 "cells": [
  {
   "cell_type": "markdown",
   "metadata": {},
   "source": [
    "## Aufgabenstellung\n",
    "\n",
    "\n",
    "Ein Unternehmer engagiert eine Beratungsfirma, welche Ihm anhand seiner Produktionsdaten Verbesserungspotenziale aufzuzeigen soll."
   ]
  },
  {
   "cell_type": "markdown",
   "metadata": {},
   "source": [
    "<img style=\"float: right;\" src=\"Bilder_IoT_WW/Aufgabe.png\" width=\"1000\">"
   ]
  },
  {
   "cell_type": "markdown",
   "metadata": {},
   "source": [
    "## Ablauf\n",
    "\n",
    "\n",
    "**Montag:**<br>\n",
    "Begrüßung und Gruppeneinteilung inkl. Übergabe Aufgabenstellung (V00)\n",
    "<br>\n",
    "<br>\n",
    "**Dienstag:**<br>\n",
    "Theorieteil Data Science I (V01)<br>\n",
    "Einführung in die Python-Programmierung I & II (V02 & V03)\n",
    "<br>\n",
    "<br>\n",
    "**Mittwoch:**<br>\n",
    "Theorieteil Data Science I (V04)<br>\n",
    "Aufgabenbearbeitung Datenanalyse (V05)<br>\n",
    "Einführung in die Python-Programmierung III (V06)\n",
    "<br>\n",
    "<br>\n",
    "**Donnerstag:**<br>\n",
    "Aufgabenbearbeitung Datenvisualisierung (V07)\n",
    "<br>\n",
    "<br>\n",
    "**Freitag:**<br>\n",
    "Vorbereitung Abschlusspräsentation<br>\n",
    "Abschlusspräsentation"
   ]
  }
 ],
 "metadata": {
  "kernelspec": {
   "display_name": "Python 3 (ipykernel)",
   "language": "python",
   "name": "python3"
  },
  "language_info": {
   "codemirror_mode": {
    "name": "ipython",
    "version": 3
   },
   "file_extension": ".py",
   "mimetype": "text/x-python",
   "name": "python",
   "nbconvert_exporter": "python",
   "pygments_lexer": "ipython3",
   "version": "3.9.7"
  }
 },
 "nbformat": 4,
 "nbformat_minor": 2
}
