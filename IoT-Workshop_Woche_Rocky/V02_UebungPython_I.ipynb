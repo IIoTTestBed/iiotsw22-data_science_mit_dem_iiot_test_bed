{
 "cells": [
  {
   "cell_type": "markdown",
   "metadata": {},
   "source": [
    "# Einführung in die Python-Programmierung I"
   ]
  },
  {
   "cell_type": "markdown",
   "metadata": {},
   "source": [
    "### Warum Python?\n",
    "\n",
    "Python ist eine der beliebtesten und am weitesten verbreiteten Programmiersprachen weltweit und hat bereits viele andere Programmiersprachen in der IT-Branche ersetzt. Neben der Programmiersprache R wird Python überwiegend für Data Science Projekte eingesetzt.\n",
    "\n",
    "Hier sind einige Gründe kurz zusammengefasst, warum Python so beliebt ist:\n",
    "- Python ist aufgrund seiner klaren Strukturen einfach zu lernen und ist dementsprechend sehr gut für Beginner geeignet.\n",
    "- Python verfügt über eine große Sammlung an Bibliotheken (dazu später mehr).\n",
    "- Von der Entwicklung bis zur Bereitstellung und Wartung, hilft Python seinen Entwicklern dabei produktiver zu sein.\n",
    "- Portabilität wird bei Python groß geschrieben.\n",
    "- Die Programmiersyntax von Python ist einfach zu erlernen und auf einem höheren Niveau, im Vergleich zu C, Java oder C++.\n",
    "\n",
    "Quelle: https://lerneprogrammieren.de/python-bibliotheken/"
   ]
  },
  {
   "cell_type": "markdown",
   "metadata": {},
   "source": [
    "Prinzipiell wird in Python mit Variablen gearbeitet. Eine Variable kann als Behälter (Container) zur Aufbewahrung von bestimmten Werten beschrieben werden. Im Verlauf eines Quellcodes bzw. Programms kann auf die Variablen, oder genauer auf den Wert ihres Inhaltes zugegriffen werden. Die Zuweisung eines neuen Werts ist ebenfalls möglich.\n",
    "\n",
    "Quelle: https://www.python-kurs.eu/variablen.php"
   ]
  },
  {
   "cell_type": "code",
   "execution_count": 1,
   "metadata": {},
   "outputs": [
    {
     "data": {
      "text/plain": [
       "3"
      ]
     },
     "execution_count": 1,
     "metadata": {},
     "output_type": "execute_result"
    }
   ],
   "source": [
    "3"
   ]
  },
  {
   "cell_type": "code",
   "execution_count": 2,
   "metadata": {},
   "outputs": [
    {
     "data": {
      "text/plain": [
       "6"
      ]
     },
     "execution_count": 2,
     "metadata": {},
     "output_type": "execute_result"
    }
   ],
   "source": [
    "3 + 3"
   ]
  },
  {
   "cell_type": "code",
   "execution_count": 8,
   "metadata": {},
   "outputs": [
    {
     "name": "stdout",
     "output_type": "stream",
     "text": [
      "<class 'str'>\n"
     ]
    }
   ],
   "source": [
    "#Variable > Wertzuweisung > Wert\n",
    "variableA = 3\n",
    "variableB = 5\n",
    "variableC = \"3\"\n",
    "\n",
    "print(type(variableC + \"3\"))"
   ]
  },
  {
   "cell_type": "code",
   "execution_count": 9,
   "metadata": {},
   "outputs": [
    {
     "data": {
      "text/plain": [
       "8"
      ]
     },
     "execution_count": 9,
     "metadata": {},
     "output_type": "execute_result"
    }
   ],
   "source": [
    "#Variable > Wertzuweisung > Wert\n",
    "variableA = 3\n",
    "variableB = 5\n",
    "variableC = \"IoT\"\n",
    "\n",
    "variableA + variableB"
   ]
  },
  {
   "cell_type": "code",
   "execution_count": 26,
   "metadata": {},
   "outputs": [
    {
     "name": "stdout",
     "output_type": "stream",
     "text": [
      "6\n"
     ]
    }
   ],
   "source": [
    "#Variable > Wertzuweisung > Wert\n",
    "variableA = 3\n",
    "variableB = 5\n",
    "variableC = \"IoT\"\n",
    "\n",
    "variableD = variableA + variableB - 2\n",
    "print(variableD)"
   ]
  },
  {
   "cell_type": "markdown",
   "metadata": {},
   "source": [
    "Bei den Werten wird zwischen **Zahlen, Strings oder Wahrheitswerten** unterschieden. Python kennt vier eingebaute (built-in) Datentypen für **Zahlen**:\n",
    "- Ganzzahl (Integer) z.B. 4321 (vorangestellte 0 bedeutet Oktalzahl und vorangestelltes 0x bedeutet Hexzahl)\n",
    "- lange Ganzzahl (sie können beliebig lang werden und werden mit einem l am Anfang bzw. L am Ende bezeichnet)\n",
    "- Fließkommazahlen (Zahlen der Form 3.14159 oder 17.3e+02)\n",
    "- komplexe Zahlen z.B. 1.2+3j\n",
    "\n",
    "Ein **String**, oder Zeichenkette, kann man als eine Sequenz von einzelnen Zeichen sehen. Strings können unter Benutzung von\n",
    "- einzelnen Anführungszeichen (') z.B. 'Dies ist ein String mit einfachen Quotes' \n",
    "- doppelten Anführungszeichen (\") z.B. \"Mayers' Dackel heißt Waldi\" \n",
    "angegeben werden.\n",
    "\n",
    "Der Datentyp **Wahrheitswert** wird durch die Werte TRUE oder FALSE beschrieben und in Python mit „bool“ (Boolean) bezeichnet.\n",
    "\n",
    "Quelle: https://www.python-kurs.eu/variablen.php"
   ]
  },
  {
   "cell_type": "code",
   "execution_count": 16,
   "metadata": {},
   "outputs": [
    {
     "name": "stdout",
     "output_type": "stream",
     "text": [
      "True\n",
      "<class 'float'>\n"
     ]
    }
   ],
   "source": [
    "varA = -4.5\n",
    "varB = 6.5\n",
    "\n",
    "if type(varA) == type(varB):\n",
    "    varD = True\n",
    "else:\n",
    "    varD = False\n",
    "    \n",
    "print(varD)\n",
    "print(type(varA + varB))"
   ]
  },
  {
   "cell_type": "markdown",
   "metadata": {},
   "source": [
    "## !!!Beim Arbeiten mit Variablen ist stets auf die Kompatibilität der Datentypen zu achten!!!\n",
    "<br>\n",
    "<br>"
   ]
  },
  {
   "cell_type": "code",
   "execution_count": 17,
   "metadata": {},
   "outputs": [
    {
     "ename": "TypeError",
     "evalue": "unsupported operand type(s) for +: 'int' and 'str'",
     "output_type": "error",
     "traceback": [
      "\u001b[1;31m---------------------------------------------------------------------------\u001b[0m",
      "\u001b[1;31mTypeError\u001b[0m                                 Traceback (most recent call last)",
      "\u001b[1;32mC:\\Users\\ROCKYT~1\\AppData\\Local\\Temp/ipykernel_13716/2656481151.py\u001b[0m in \u001b[0;36m<module>\u001b[1;34m\u001b[0m\n\u001b[0;32m      4\u001b[0m \u001b[0mvariableC\u001b[0m \u001b[1;33m=\u001b[0m \u001b[1;34m\"IoT\"\u001b[0m\u001b[1;33m\u001b[0m\u001b[1;33m\u001b[0m\u001b[0m\n\u001b[0;32m      5\u001b[0m \u001b[1;33m\u001b[0m\u001b[0m\n\u001b[1;32m----> 6\u001b[1;33m \u001b[0mvariableA\u001b[0m \u001b[1;33m+\u001b[0m \u001b[0mvariableC\u001b[0m\u001b[1;33m\u001b[0m\u001b[1;33m\u001b[0m\u001b[0m\n\u001b[0m",
      "\u001b[1;31mTypeError\u001b[0m: unsupported operand type(s) for +: 'int' and 'str'"
     ]
    }
   ],
   "source": [
    "#Variable > Wertzuweisung > Wert\n",
    "variableA = 3\n",
    "variableB = 5\n",
    "variableC = \"IoT\"\n",
    "\n",
    "variableA + variableC"
   ]
  },
  {
   "cell_type": "code",
   "execution_count": 27,
   "metadata": {},
   "outputs": [
    {
     "name": "stdout",
     "output_type": "stream",
     "text": [
      "<class 'int'>\n"
     ]
    },
    {
     "data": {
      "text/plain": [
       "6.4"
      ]
     },
     "execution_count": 27,
     "metadata": {},
     "output_type": "execute_result"
    }
   ],
   "source": [
    "#Variable > Wertzuweisung > Wert\n",
    "variableA = 3\n",
    "variableB = 5\n",
    "variableC = \"IoT\"\n",
    "\n",
    "print(type(variableA))\n",
    "variableA + 3.4"
   ]
  },
  {
   "cell_type": "code",
   "execution_count": 19,
   "metadata": {},
   "outputs": [
    {
     "name": "stdout",
     "output_type": "stream",
     "text": [
      "wahr\n"
     ]
    }
   ],
   "source": [
    "#Variable > Wertzuweisung > Wert\n",
    "variableA = 3\n",
    "variableB = 5\n",
    "variableC = \"IoT\"\n",
    "variableD = 8.7\n",
    "\n",
    "variableE = variableA + 3.4\n",
    "\n",
    "if isinstance(variableE, type(variableD)):\n",
    "    print(\"wahr\")\n",
    "else:\n",
    "    print(\"falsch\")\n",
    "    "
   ]
  },
  {
   "cell_type": "code",
   "execution_count": null,
   "metadata": {},
   "outputs": [],
   "source": [
    "#Variable > Wertzuweisung > Wert\n",
    "variableA = 3\n",
    "variableB = 5\n",
    "variableC = \"IoT\"\n",
    "\n",
    "variableE = variableA + 3.4\n",
    "\n",
    "if isinstance(variableE, float):\n",
    "    print(\"wahr\")\n",
    "else:\n",
    "    print(\"falsch\")"
   ]
  },
  {
   "cell_type": "code",
   "execution_count": 20,
   "metadata": {},
   "outputs": [
    {
     "name": "stdout",
     "output_type": "stream",
     "text": [
      "True\n",
      "False\n",
      "False\n"
     ]
    }
   ],
   "source": [
    "#Datentyp bool\n",
    "\n",
    "#Variable > Wertzuweisung > Wert\n",
    "variableA = 3\n",
    "variableB = 5\n",
    "variableC = \"IoT\"\n",
    "\n",
    "variableE = variableA + 3.4\n",
    "\n",
    "print(isinstance(variableE, float))  \n",
    "print(isinstance(variableE, int))\n",
    "print(isinstance(variableE, str))"
   ]
  },
  {
   "cell_type": "markdown",
   "metadata": {},
   "source": [
    "## Variablen und Datentypen\n",
    "\n",
    "Diese Übung enthält Aufgaben, die zeigen, wie Variablen benutzt werden, um mit Daten zu arbeiten und\n",
    "diese zu speichern.\n",
    "Es demonstriert die Unterschiede zwischen elementaren Datentypen und verdeutlicht, wie wichtig das Bewusstsein für diese Datentypen ist.\n",
    "\n",
    "Literaturhinweise:  \n",
    "Theis, Thomas (2017). Einstieg in Python.Rheinwerk, 2017, S. 23-27  \n",
    "Kofler, Michael (2019). Python\n",
    "https://www.tutorialspoint.com/python/python_variable_types.htm  \n",
    "weiterführend: https://www.python-kurs.eu/python3_variablen.php  "
   ]
  },
  {
   "cell_type": "markdown",
   "metadata": {},
   "source": [
    "### Aufgabe 1\n",
    "Was passiert in den folgenden Zeilen?\n",
    "Erläutern Sie jede einzelne Zeile!"
   ]
  },
  {
   "cell_type": "code",
   "execution_count": 28,
   "metadata": {},
   "outputs": [
    {
     "name": "stdout",
     "output_type": "stream",
     "text": [
      "1\n",
      "<class 'int'>\n"
     ]
    }
   ],
   "source": [
    "a = 1 \n",
    "print(a) \n",
    "b = a + 2\n",
    "print(type(a))"
   ]
  },
  {
   "cell_type": "markdown",
   "metadata": {},
   "source": [
    "*... Ihre Erläuterungen ...*"
   ]
  },
  {
   "cell_type": "markdown",
   "metadata": {},
   "source": [
    "### Aufgabe 2\n",
    "Welche Datentypen werden im folgenden Beispiel gezeigt?\n"
   ]
  },
  {
   "cell_type": "code",
   "execution_count": 24,
   "metadata": {},
   "outputs": [
    {
     "name": "stdout",
     "output_type": "stream",
     "text": [
      "<class 'int'> 6785948732891878909098789006545443443445556666\n"
     ]
    }
   ],
   "source": [
    "a = 32456733  \n",
    "b = 3.141592   \n",
    "f = 'Have fun!'\n",
    "l = 6785948732891878909098789006545443443445556666\n",
    "print(type(l), l)"
   ]
  },
  {
   "cell_type": "markdown",
   "metadata": {},
   "source": [
    "Wie können Sie selbst prüfen, ob Sie bei Aufgabe 2 richtig lagen?"
   ]
  },
  {
   "cell_type": "markdown",
   "metadata": {},
   "source": [
    "### Aufgabe 3\n",
    "1. Schreiben Sie ein Programm zur Berechnung des Flächeninhalts von Rechtecken. \n",
    "2. Die Seitenmaße sollen dabei individuell eingegeben werden können. Nutzen Sie dazu den *input-Befehl*. Recherchieren Sie ggf., wie sich der *input-Befehl* implementieren lässt (Eingabe bei Google: \"python input\"). \n",
    "3. Der Flächeninhalt soll als Ergebnis ausgegeben werden.\n",
    "\n",
    "Führen Sie das Programm aus und prüfen Sie das Ergebnis!"
   ]
  },
  {
   "cell_type": "markdown",
   "metadata": {},
   "source": [
    "*... Ihr Programm ...*"
   ]
  }
 ],
 "metadata": {
  "kernelspec": {
   "display_name": "Python 3 (ipykernel)",
   "language": "python",
   "name": "python3"
  },
  "language_info": {
   "codemirror_mode": {
    "name": "ipython",
    "version": 3
   },
   "file_extension": ".py",
   "mimetype": "text/x-python",
   "name": "python",
   "nbconvert_exporter": "python",
   "pygments_lexer": "ipython3",
   "version": "3.9.7"
  }
 },
 "nbformat": 4,
 "nbformat_minor": 2
}
