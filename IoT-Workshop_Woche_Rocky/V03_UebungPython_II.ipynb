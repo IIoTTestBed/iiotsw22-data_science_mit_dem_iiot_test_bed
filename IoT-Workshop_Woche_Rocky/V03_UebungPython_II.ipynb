{
 "cells": [
  {
   "cell_type": "markdown",
   "metadata": {},
   "source": [
    "# Einführung in die Python-Programmierung II"
   ]
  },
  {
   "cell_type": "markdown",
   "metadata": {},
   "source": [
    "## Aufgabe 3 aus Übung I\n",
    "\n",
    "1. Schreiben Sie ein Programm zur Berechnung des Flächeninhalts von Rechtecken.\n",
    "2. Die Seitenmaße sollen dabei individuell eingegeben werden können. Nutzen Sie dazu den input-Befehl. Recherchieren Sie ggf., wie sich der input-Befehl implementieren lässt (Eingabe bei Google: \"python input\").\n",
    "3. Der Flächeninhalt soll als Ergebnis ausgegeben werden.\n",
    "\n",
    "Führen Sie das Programm aus und prüfen Sie das Ergebnis!"
   ]
  },
  {
   "cell_type": "code",
   "execution_count": 5,
   "metadata": {},
   "outputs": [
    {
     "name": "stdout",
     "output_type": "stream",
     "text": [
      "Geben Sie die Länge des Rechtecks ein: 2\n",
      "Geben Sie die Breite des Rechtecks ein: 2\n",
      "Die Fläche des Rechtecks beträgt 4 m2.\n"
     ]
    }
   ],
   "source": [
    "laenge = input(\"Geben Sie die Länge des Rechtecks ein: \")\n",
    "breite = input(\"Geben Sie die Breite des Rechtecks ein: \")\n",
    "flaeche = int(laenge) * int(breite)\n",
    "\n",
    "print(\"Die Fläche des Rechtecks beträgt\", flaeche, \"m2.\")"
   ]
  },
  {
   "cell_type": "code",
   "execution_count": 7,
   "metadata": {},
   "outputs": [
    {
     "name": "stdout",
     "output_type": "stream",
     "text": [
      "Die Fläche des Rechtecks beträgt 42 m2.\n"
     ]
    }
   ],
   "source": [
    "#Nutzung von Funktionen\n",
    "\n",
    "def rechteckFlaeche(laenge, breite):\n",
    "    flaeche = laenge * breite\n",
    "    print(\"Die Fläche des Rechtecks beträgt\", flaeche, \"m2.\")\n",
    "    return\n",
    "\n",
    "rechteckFlaeche(6, 7)"
   ]
  },
  {
   "cell_type": "markdown",
   "metadata": {},
   "source": [
    "### Nutzung von Bibliotheken\n",
    "\n",
    "Ein Grund für die Beliebtheit von Python ist, dass es eine erstaunlich große Sammlung von Bibliotheken gibt, mit denen die Benutzer arbeiten können.\n",
    "\n",
    "Quelle: https://lerneprogrammieren.de/python-bibliotheken/\n",
    "<br>\n",
    "<br>\n",
    "<br>\n",
    "Eine Bibliothek ist eine Sammlung von Funktionen oder Klassen, die eine Programmiersprache um weitere Befehle erweitert.\n",
    "Bei Python spricht man von Modulen statt von Bibliotheken, das Prinzip ist aber dasselbe. \n",
    "Damit die Funktionen der Bibliothek verwendet werden können, muss die Bibliothek zunächst importiert werden. Das bedeutet, dass eine Zeile Code geschrieben werden muss, die die Datei mit den Klassen- und Funktionsdefinitionen unserer Entwicklungsumgebung hinzufügt. Einige Bibliotheken sind standardmäßig verfügbar, andere müssen extra hinzugefügt werden. <br>\n",
    "\n",
    "Quelle: https://www3.tuhh.de/itbh/informatik-202021/veranstaltungsskript/python/processingpy/programmiergrundlagen/bibliotheken/"
   ]
  },
  {
   "cell_type": "code",
   "execution_count": 1,
   "metadata": {},
   "outputs": [],
   "source": [
    "#pip install pandas   #Installation der Pandas-Bibliothek über die Konsole\n",
    "import pandas as pd   #Einfügen der Pandas-Bibliothek über die Abkürzung \"pd\""
   ]
  },
  {
   "cell_type": "markdown",
   "metadata": {},
   "source": [
    "### Bibliothek Pandas\n",
    "\n",
    "pandas ist ein schnelles, leistungsstarkes, flexibles und einfach zu bedienendes Open-Source-Werkzeug zur Datenanalyse und -manipulation, das auf der Programmiersprache Python aufbaut.\n",
    "\n",
    "Quelle: https://pandas.pydata.org/"
   ]
  },
  {
   "cell_type": "markdown",
   "metadata": {},
   "source": [
    "<img style=\"float: right;\" src=\"Bilder_IoT_WW/pandas_dataframe.png\" width=\"200\"> Wenn Sie mit tabellarischen Daten arbeiten, wie z.B. Daten, die in Tabellenkalkulationen oder Datenbanken gespeichert sind, ist pandas das richtige Werkzeug für Sie. pandas hilft Ihnen dabei, Ihre Daten zu untersuchen, zu bereinigen und zu verarbeiten. In pandas wird eine Datentabelle als DataFrame bezeichnet.\n",
    "\n",
    "Quelle: https://pandas.pydata.org/docs/getting_started/index.html"
   ]
  },
  {
   "cell_type": "markdown",
   "metadata": {},
   "source": [
    "<img style=\"float: right;\" src=\"Bilder_IoT_WW/pandas_read_to.png\" width=\"500\"> pandas unterstützt die Integration mit vielen Dateiformaten oder Datenquellen (csv, excel, sql, json, parquet,...) von Haus aus. Das Importieren von Daten aus jeder dieser Datenquellen wird durch Funktionen mit dem Präfix read_* bereitgestellt. In ähnlicher Weise werden die to_*-Methoden zum Speichern von Daten verwendet.\n",
    "\n",
    "Quelle: https://pandas.pydata.org/docs/getting_started/index.html"
   ]
  },
  {
   "cell_type": "code",
   "execution_count": 2,
   "metadata": {},
   "outputs": [
    {
     "data": {
      "text/html": [
       "<div>\n",
       "<style scoped>\n",
       "    .dataframe tbody tr th:only-of-type {\n",
       "        vertical-align: middle;\n",
       "    }\n",
       "\n",
       "    .dataframe tbody tr th {\n",
       "        vertical-align: top;\n",
       "    }\n",
       "\n",
       "    .dataframe thead th {\n",
       "        text-align: right;\n",
       "    }\n",
       "</style>\n",
       "<table border=\"1\" class=\"dataframe\">\n",
       "  <thead>\n",
       "    <tr style=\"text-align: right;\">\n",
       "      <th></th>\n",
       "      <th>Produktvariante</th>\n",
       "      <th>Prozessschritt</th>\n",
       "      <th>Auftragsnummer</th>\n",
       "      <th>Prozessbeschreibung</th>\n",
       "      <th>Prozessnummer</th>\n",
       "      <th>Startdatum</th>\n",
       "      <th>Startzeit</th>\n",
       "      <th>Enddatum</th>\n",
       "      <th>Endzeit</th>\n",
       "      <th>Arbeitsstation</th>\n",
       "      <th>Transportzeit</th>\n",
       "    </tr>\n",
       "  </thead>\n",
       "  <tbody>\n",
       "    <tr>\n",
       "      <th>0</th>\n",
       "      <td>8010</td>\n",
       "      <td>10</td>\n",
       "      <td>1329</td>\n",
       "      <td>release a defined part on stopper 1</td>\n",
       "      <td>212</td>\n",
       "      <td>12.05.2021</td>\n",
       "      <td>10:02:25</td>\n",
       "      <td>12.05.2021</td>\n",
       "      <td>10:02:40</td>\n",
       "      <td>5</td>\n",
       "      <td>0</td>\n",
       "    </tr>\n",
       "    <tr>\n",
       "      <th>1</th>\n",
       "      <td>8010</td>\n",
       "      <td>20</td>\n",
       "      <td>1329</td>\n",
       "      <td>feed part from magazin</td>\n",
       "      <td>200</td>\n",
       "      <td>12.05.2021</td>\n",
       "      <td>10:03:07</td>\n",
       "      <td>12.05.2021</td>\n",
       "      <td>10:03:09</td>\n",
       "      <td>11</td>\n",
       "      <td>27</td>\n",
       "    </tr>\n",
       "    <tr>\n",
       "      <th>2</th>\n",
       "      <td>8010</td>\n",
       "      <td>30</td>\n",
       "      <td>1329</td>\n",
       "      <td>assemble a PCB with one fuse left</td>\n",
       "      <td>302</td>\n",
       "      <td>12.05.2021</td>\n",
       "      <td>10:04:45</td>\n",
       "      <td>12.05.2021</td>\n",
       "      <td>10:06:28</td>\n",
       "      <td>8</td>\n",
       "      <td>6</td>\n",
       "    </tr>\n",
       "    <tr>\n",
       "      <th>3</th>\n",
       "      <td>8010</td>\n",
       "      <td>40</td>\n",
       "      <td>1329</td>\n",
       "      <td>feed part from magazin</td>\n",
       "      <td>200</td>\n",
       "      <td>12.05.2021</td>\n",
       "      <td>10:07:27</td>\n",
       "      <td>12.05.2021</td>\n",
       "      <td>10:07:30</td>\n",
       "      <td>6</td>\n",
       "      <td>63</td>\n",
       "    </tr>\n",
       "    <tr>\n",
       "      <th>4</th>\n",
       "      <td>8010</td>\n",
       "      <td>50</td>\n",
       "      <td>1329</td>\n",
       "      <td>pressing for time in seconds</td>\n",
       "      <td>110</td>\n",
       "      <td>12.05.2021</td>\n",
       "      <td>10:07:43</td>\n",
       "      <td>12.05.2021</td>\n",
       "      <td>10:07:45</td>\n",
       "      <td>7</td>\n",
       "      <td>14</td>\n",
       "    </tr>\n",
       "    <tr>\n",
       "      <th>5</th>\n",
       "      <td>8010</td>\n",
       "      <td>60</td>\n",
       "      <td>1329</td>\n",
       "      <td>store a part from stopper 2</td>\n",
       "      <td>211</td>\n",
       "      <td>12.05.2021</td>\n",
       "      <td>10:09:49</td>\n",
       "      <td>12.05.2021</td>\n",
       "      <td>10:10:01</td>\n",
       "      <td>5</td>\n",
       "      <td>1126</td>\n",
       "    </tr>\n",
       "    <tr>\n",
       "      <th>6</th>\n",
       "      <td>8010</td>\n",
       "      <td>10</td>\n",
       "      <td>1329</td>\n",
       "      <td>release a defined part on stopper 1</td>\n",
       "      <td>212</td>\n",
       "      <td>12.05.2021</td>\n",
       "      <td>10:02:43</td>\n",
       "      <td>12.05.2021</td>\n",
       "      <td>10:02:56</td>\n",
       "      <td>5</td>\n",
       "      <td>0</td>\n",
       "    </tr>\n",
       "    <tr>\n",
       "      <th>7</th>\n",
       "      <td>8010</td>\n",
       "      <td>20</td>\n",
       "      <td>1329</td>\n",
       "      <td>feed part from magazin</td>\n",
       "      <td>200</td>\n",
       "      <td>12.05.2021</td>\n",
       "      <td>10:03:23</td>\n",
       "      <td>12.05.2021</td>\n",
       "      <td>10:03:25</td>\n",
       "      <td>11</td>\n",
       "      <td>27</td>\n",
       "    </tr>\n",
       "    <tr>\n",
       "      <th>8</th>\n",
       "      <td>8010</td>\n",
       "      <td>30</td>\n",
       "      <td>1329</td>\n",
       "      <td>assemble a PCB with one fuse left</td>\n",
       "      <td>302</td>\n",
       "      <td>12.05.2021</td>\n",
       "      <td>10:06:35</td>\n",
       "      <td>12.05.2021</td>\n",
       "      <td>10:08:18</td>\n",
       "      <td>8</td>\n",
       "      <td>6</td>\n",
       "    </tr>\n",
       "    <tr>\n",
       "      <th>9</th>\n",
       "      <td>8010</td>\n",
       "      <td>40</td>\n",
       "      <td>1329</td>\n",
       "      <td>feed part from magazin</td>\n",
       "      <td>200</td>\n",
       "      <td>12.05.2021</td>\n",
       "      <td>10:09:28</td>\n",
       "      <td>12.05.2021</td>\n",
       "      <td>10:09:30</td>\n",
       "      <td>6</td>\n",
       "      <td>63</td>\n",
       "    </tr>\n",
       "  </tbody>\n",
       "</table>\n",
       "</div>"
      ],
      "text/plain": [
       "   Produktvariante  Prozessschritt  Auftragsnummer  \\\n",
       "0             8010              10            1329   \n",
       "1             8010              20            1329   \n",
       "2             8010              30            1329   \n",
       "3             8010              40            1329   \n",
       "4             8010              50            1329   \n",
       "5             8010              60            1329   \n",
       "6             8010              10            1329   \n",
       "7             8010              20            1329   \n",
       "8             8010              30            1329   \n",
       "9             8010              40            1329   \n",
       "\n",
       "                   Prozessbeschreibung  Prozessnummer  Startdatum Startzeit  \\\n",
       "0  release a defined part on stopper 1            212  12.05.2021  10:02:25   \n",
       "1               feed part from magazin            200  12.05.2021  10:03:07   \n",
       "2    assemble a PCB with one fuse left            302  12.05.2021  10:04:45   \n",
       "3               feed part from magazin            200  12.05.2021  10:07:27   \n",
       "4         pressing for time in seconds            110  12.05.2021  10:07:43   \n",
       "5          store a part from stopper 2            211  12.05.2021  10:09:49   \n",
       "6  release a defined part on stopper 1            212  12.05.2021  10:02:43   \n",
       "7               feed part from magazin            200  12.05.2021  10:03:23   \n",
       "8    assemble a PCB with one fuse left            302  12.05.2021  10:06:35   \n",
       "9               feed part from magazin            200  12.05.2021  10:09:28   \n",
       "\n",
       "     Enddatum   Endzeit  Arbeitsstation  Transportzeit  \n",
       "0  12.05.2021  10:02:40               5              0  \n",
       "1  12.05.2021  10:03:09              11             27  \n",
       "2  12.05.2021  10:06:28               8              6  \n",
       "3  12.05.2021  10:07:30               6             63  \n",
       "4  12.05.2021  10:07:45               7             14  \n",
       "5  12.05.2021  10:10:01               5           1126  \n",
       "6  12.05.2021  10:02:56               5              0  \n",
       "7  12.05.2021  10:03:25              11             27  \n",
       "8  12.05.2021  10:08:18               8              6  \n",
       "9  12.05.2021  10:09:30               6             63  "
      ]
     },
     "execution_count": 2,
     "metadata": {},
     "output_type": "execute_result"
    }
   ],
   "source": [
    "#df = pd.read_csv(\"euerPfad/Dateiname.csv\", sep = \";\")\n",
    "df = pd.read_csv(\"C:/Users/Rocky Telatko/Documents/RT/Python/IoT-Workshop_Woche/ProdTag_12_05_2021.csv\", sep = \";\")\n",
    "df.head(n=10)"
   ]
  },
  {
   "cell_type": "markdown",
   "metadata": {},
   "source": [
    "<img style=\"float: right;\" src=\"Bilder_IoT_WW/pandas_functions.png\" width=\"400\"> In Pandas stehen Methoden zum Zerlegen, Auswählen und Extrahieren der benötigten Daten zur Verfügung.\n",
    "\n",
    "Quelle: https://pandas.pydata.org/docs/getting_started/index.html"
   ]
  },
  {
   "cell_type": "markdown",
   "metadata": {},
   "source": [
    "<img style=\"float: right;\" src=\"Bilder_IoT_WW/pandas_statistics.png\" width=\"400\"> Grundlegende Statistiken (Mittelwert, Median, Minimum, Maximum, Anzahl...) sind leicht zu berechnen. Diese oder benutzerdefinierte Aggregationen können auf den gesamten Datensatz, ein gleitendes Fenster der Daten oder gruppiert nach Kategorien angewendet werden. Letzteres wird auch als \"split-apply-combine\"-Ansatz bezeichnet.\n",
    "\n",
    "Quelle: https://pandas.pydata.org/docs/getting_started/index.html"
   ]
  },
  {
   "cell_type": "markdown",
   "metadata": {},
   "source": [
    "## Aufgabe\n",
    "\n",
    "Informieren Sie sich zu weiteren Möglichkeiten, welche pandas bietet: https://pandas.pydata.org/docs/getting_started/index.html <br>\n",
    "\n",
    "Wie würden Sie bei der Datenanalyse vorgehen, um für die entwickelten Problemstellungen Informationen zu generieren? <br>\n",
    "Welche Funktionen von pandas könnten Ihnen hierfür dienen? Hilfreiche Informationen finden Sie unter: https://pandas.pydata.org/docs/user_guide/index.html\n",
    "<br>(Orientierung an Fragen 03-06 der Methode von John B. Rollins)"
   ]
  },
  {
   "cell_type": "markdown",
   "metadata": {},
   "source": [
    "*... Ihre Anmerkungen ...*"
   ]
  },
  {
   "cell_type": "code",
   "execution_count": 6,
   "metadata": {},
   "outputs": [
    {
     "data": {
      "text/plain": [
       "array([8010, 8011, 8111, 8110], dtype=int64)"
      ]
     },
     "execution_count": 6,
     "metadata": {},
     "output_type": "execute_result"
    }
   ],
   "source": [
    "#Anzahl an Produktvarianten\n",
    "anzProdVar = pd.unique(df[['Produktvariante']].values.ravel())\n",
    "anzProdVar"
   ]
  },
  {
   "cell_type": "code",
   "execution_count": 16,
   "metadata": {},
   "outputs": [
    {
     "data": {
      "text/plain": [
       "array([10, 60], dtype=int64)"
      ]
     },
     "execution_count": 16,
     "metadata": {},
     "output_type": "execute_result"
    }
   ],
   "source": [
    "#Filtern nach Arbeitsstationen, um zu prüfen, ob die sich die Reihenfolge der Arbeitsstationen (bzw. Prozessabfolge) ändert I\n",
    "selectPS_AS = df[[\"Prozessschritt\", \"Arbeitsstation\"]]\n",
    "selectPS_AS = selectPS_AS.loc[(selectPS_AS['Arbeitsstation'] == 5)]\n",
    "anzProzSchr_AS5 = pd.unique(selectPS_AS[['Prozessschritt']].values.ravel())\n",
    "anzProzSchr_AS5"
   ]
  },
  {
   "cell_type": "code",
   "execution_count": 17,
   "metadata": {},
   "outputs": [
    {
     "data": {
      "text/plain": [
       "True"
      ]
     },
     "execution_count": 17,
     "metadata": {},
     "output_type": "execute_result"
    }
   ],
   "source": [
    "#Check for NaN under an entire DataFrame\n",
    "df.isnull().values.any()"
   ]
  },
  {
   "cell_type": "code",
   "execution_count": 18,
   "metadata": {},
   "outputs": [
    {
     "data": {
      "text/plain": [
       "28"
      ]
     },
     "execution_count": 18,
     "metadata": {},
     "output_type": "execute_result"
    }
   ],
   "source": [
    "#Count the NaN under an entire DataFrame\n",
    "df.isnull().sum().sum()"
   ]
  },
  {
   "cell_type": "code",
   "execution_count": 19,
   "metadata": {},
   "outputs": [
    {
     "data": {
      "text/html": [
       "<div>\n",
       "<style scoped>\n",
       "    .dataframe tbody tr th:only-of-type {\n",
       "        vertical-align: middle;\n",
       "    }\n",
       "\n",
       "    .dataframe tbody tr th {\n",
       "        vertical-align: top;\n",
       "    }\n",
       "\n",
       "    .dataframe thead th {\n",
       "        text-align: right;\n",
       "    }\n",
       "</style>\n",
       "<table border=\"1\" class=\"dataframe\">\n",
       "  <thead>\n",
       "    <tr style=\"text-align: right;\">\n",
       "      <th></th>\n",
       "      <th>Produktvariante</th>\n",
       "      <th>Prozessschritt</th>\n",
       "      <th>Auftragsnummer</th>\n",
       "      <th>Prozessbeschreibung</th>\n",
       "      <th>Prozessnummer</th>\n",
       "      <th>Startdatum</th>\n",
       "      <th>Startzeit</th>\n",
       "      <th>Enddatum</th>\n",
       "      <th>Endzeit</th>\n",
       "      <th>Arbeitsstation</th>\n",
       "      <th>Transportzeit</th>\n",
       "    </tr>\n",
       "  </thead>\n",
       "  <tbody>\n",
       "    <tr>\n",
       "      <th>1095</th>\n",
       "      <td>8010</td>\n",
       "      <td>40</td>\n",
       "      <td>1360</td>\n",
       "      <td>feed part from magazin</td>\n",
       "      <td>200</td>\n",
       "      <td>NaN</td>\n",
       "      <td>NaN</td>\n",
       "      <td>NaN</td>\n",
       "      <td>NaN</td>\n",
       "      <td>6</td>\n",
       "      <td>63</td>\n",
       "    </tr>\n",
       "    <tr>\n",
       "      <th>1096</th>\n",
       "      <td>8010</td>\n",
       "      <td>50</td>\n",
       "      <td>1360</td>\n",
       "      <td>pressing for time in seconds</td>\n",
       "      <td>110</td>\n",
       "      <td>NaN</td>\n",
       "      <td>NaN</td>\n",
       "      <td>NaN</td>\n",
       "      <td>NaN</td>\n",
       "      <td>7</td>\n",
       "      <td>14</td>\n",
       "    </tr>\n",
       "    <tr>\n",
       "      <th>1097</th>\n",
       "      <td>8010</td>\n",
       "      <td>60</td>\n",
       "      <td>1360</td>\n",
       "      <td>store a part from stopper 2</td>\n",
       "      <td>211</td>\n",
       "      <td>NaN</td>\n",
       "      <td>NaN</td>\n",
       "      <td>NaN</td>\n",
       "      <td>NaN</td>\n",
       "      <td>5</td>\n",
       "      <td>1126</td>\n",
       "    </tr>\n",
       "    <tr>\n",
       "      <th>1113</th>\n",
       "      <td>8111</td>\n",
       "      <td>40</td>\n",
       "      <td>1360</td>\n",
       "      <td>feed part from magazin</td>\n",
       "      <td>200</td>\n",
       "      <td>NaN</td>\n",
       "      <td>NaN</td>\n",
       "      <td>NaN</td>\n",
       "      <td>NaN</td>\n",
       "      <td>6</td>\n",
       "      <td>63</td>\n",
       "    </tr>\n",
       "    <tr>\n",
       "      <th>1114</th>\n",
       "      <td>8111</td>\n",
       "      <td>50</td>\n",
       "      <td>1360</td>\n",
       "      <td>pressing for time in seconds</td>\n",
       "      <td>110</td>\n",
       "      <td>NaN</td>\n",
       "      <td>NaN</td>\n",
       "      <td>NaN</td>\n",
       "      <td>NaN</td>\n",
       "      <td>7</td>\n",
       "      <td>14</td>\n",
       "    </tr>\n",
       "    <tr>\n",
       "      <th>1115</th>\n",
       "      <td>8111</td>\n",
       "      <td>60</td>\n",
       "      <td>1360</td>\n",
       "      <td>store a part from stopper 2</td>\n",
       "      <td>211</td>\n",
       "      <td>NaN</td>\n",
       "      <td>NaN</td>\n",
       "      <td>NaN</td>\n",
       "      <td>NaN</td>\n",
       "      <td>5</td>\n",
       "      <td>1126</td>\n",
       "    </tr>\n",
       "    <tr>\n",
       "      <th>1145</th>\n",
       "      <td>8011</td>\n",
       "      <td>60</td>\n",
       "      <td>1361</td>\n",
       "      <td>store a part from stopper 2</td>\n",
       "      <td>211</td>\n",
       "      <td>NaN</td>\n",
       "      <td>NaN</td>\n",
       "      <td>NaN</td>\n",
       "      <td>NaN</td>\n",
       "      <td>5</td>\n",
       "      <td>1126</td>\n",
       "    </tr>\n",
       "  </tbody>\n",
       "</table>\n",
       "</div>"
      ],
      "text/plain": [
       "      Produktvariante  Prozessschritt  Auftragsnummer  \\\n",
       "1095             8010              40            1360   \n",
       "1096             8010              50            1360   \n",
       "1097             8010              60            1360   \n",
       "1113             8111              40            1360   \n",
       "1114             8111              50            1360   \n",
       "1115             8111              60            1360   \n",
       "1145             8011              60            1361   \n",
       "\n",
       "               Prozessbeschreibung  Prozessnummer Startdatum Startzeit  \\\n",
       "1095        feed part from magazin            200        NaN       NaN   \n",
       "1096  pressing for time in seconds            110        NaN       NaN   \n",
       "1097   store a part from stopper 2            211        NaN       NaN   \n",
       "1113        feed part from magazin            200        NaN       NaN   \n",
       "1114  pressing for time in seconds            110        NaN       NaN   \n",
       "1115   store a part from stopper 2            211        NaN       NaN   \n",
       "1145   store a part from stopper 2            211        NaN       NaN   \n",
       "\n",
       "     Enddatum Endzeit  Arbeitsstation  Transportzeit  \n",
       "1095      NaN     NaN               6             63  \n",
       "1096      NaN     NaN               7             14  \n",
       "1097      NaN     NaN               5           1126  \n",
       "1113      NaN     NaN               6             63  \n",
       "1114      NaN     NaN               7             14  \n",
       "1115      NaN     NaN               5           1126  \n",
       "1145      NaN     NaN               5           1126  "
      ]
     },
     "execution_count": 19,
     "metadata": {},
     "output_type": "execute_result"
    }
   ],
   "source": [
    "#Select all rows with NaN under the entire DataFrame\n",
    "df[df.isna().any(axis=1)]"
   ]
  }
 ],
 "metadata": {
  "kernelspec": {
   "display_name": "Python 3 (ipykernel)",
   "language": "python",
   "name": "python3"
  },
  "language_info": {
   "codemirror_mode": {
    "name": "ipython",
    "version": 3
   },
   "file_extension": ".py",
   "mimetype": "text/x-python",
   "name": "python",
   "nbconvert_exporter": "python",
   "pygments_lexer": "ipython3",
   "version": "3.9.7"
  }
 },
 "nbformat": 4,
 "nbformat_minor": 2
}
