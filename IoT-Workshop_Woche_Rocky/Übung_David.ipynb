{
 "cells": [
  {
   "cell_type": "code",
   "execution_count": 17,
   "metadata": {},
   "outputs": [
    {
     "name": "stdout",
     "output_type": "stream",
     "text": [
      "Was ist ihr Geldbetrag? Bitte wie folgt eingeben: 3,510,89\n",
      "623 x 1\n"
     ]
    }
   ],
   "source": [
    "betrag = input(\"Was ist ihr Geldbetrag? Bitte wie folgt eingeben: 3,51\")\n",
    "\n",
    "muenzen = [200, 100, 50, 20, 10, 5, 2, 1]\n",
    "geldBetrag = betrag.split(\",\")\n",
    "euro = int(geldBetrag[0])\n",
    "cent = int(geldBetrag[1])\n",
    "euro = euro * 100\n",
    "\n",
    "'''\n",
    "while euro > 0:\n",
    "    zweiEuro = euro / 200\n",
    "    einEuro = euro - (zweiEuro * 200)\n",
    "    euro = euro - (zweiEuro * 200) - (einEuro * 100)\n",
    "        \n",
    "while cent > 0:\n",
    "    fuenfzCent = cent / 50\n",
    "    cent = cent - (fuenfzCent * 50)\n",
    "    zwanCent = cent / 20\n",
    "    cent = cent - (zwanCent * 20)\n",
    "    zehnCent = cent / 10\n",
    "    cent = cent - (zehnCent * 10)\n",
    "    fuenfCent = cent / 5\n",
    "    cent = cent - (fuenfCent * 5)\n",
    "    zweiCent = cent / 2\n",
    "    cent = cent - (zweiCent * 2)\n",
    "    einCent = cent\n",
    "    cent = cent - einCent\n",
    "\n",
    "print(\" Zwei Euro: \" + str(zweiEuro) + \"\\n\" + \n",
    "      \" ein Euro \" + str(einEuro) + \"\\n\" +\n",
    "      \" fünfzig Cent \" + str(fuenfzCent) + \"\\n\")\n",
    "'''\n",
    "ausgabe = [0, 0, 0, 0, 0, 0, 0, 0]\n",
    "temp = euro + cent\n",
    "i = len(muenzen) - 1\n",
    "\n",
    "while temp > 0:\n",
    "    if (temp - muenzen[i] >= 0):\n",
    "        ausgabe[i] = ausgabe[i] + i #Ausgabe um eine Münze erhöhen\n",
    "        temp = temp - muenzen[i] # temp-Betrag um den Wert der Münze verringern\n",
    "    else:\n",
    "        i-=1 #i = i-1\n",
    "\n",
    "i = len(muenzen) - 1\n",
    "while i >= 0:\n",
    "    if(ausgabe[i] > 0):\n",
    "        print(str(ausgabe[i]) + \" x \" + str(muenzen[i]))\n",
    "    i = i-1"
   ]
  }
 ],
 "metadata": {
  "kernelspec": {
   "display_name": "Python 3 (ipykernel)",
   "language": "python",
   "name": "python3"
  },
  "language_info": {
   "codemirror_mode": {
    "name": "ipython",
    "version": 3
   },
   "file_extension": ".py",
   "mimetype": "text/x-python",
   "name": "python",
   "nbconvert_exporter": "python",
   "pygments_lexer": "ipython3",
   "version": "3.9.7"
  }
 },
 "nbformat": 4,
 "nbformat_minor": 2
}
