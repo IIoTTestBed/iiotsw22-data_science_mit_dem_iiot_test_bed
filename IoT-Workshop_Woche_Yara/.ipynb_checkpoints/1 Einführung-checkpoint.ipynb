{
 "cells": [
  {
   "cell_type": "code",
   "execution_count": 2,
   "metadata": {
    "scrolled": false
   },
   "outputs": [
    {
     "name": "stdout",
     "output_type": "stream",
     "text": [
      "Hallo Kurz\n"
     ]
    }
   ],
   "source": [
    "print(\"Hallo Kurz\")"
   ]
  },
  {
   "cell_type": "code",
   "execution_count": 28,
   "metadata": {},
   "outputs": [
    {
     "name": "stdout",
     "output_type": "stream",
     "text": [
      "wie ist dein Name?Yara\n"
     ]
    },
    {
     "data": {
      "text/plain": [
       "'Yara'"
      ]
     },
     "execution_count": 28,
     "metadata": {},
     "output_type": "execute_result"
    }
   ],
   "source": [
    "input(\"wie ist dein Name?\")"
   ]
  },
  {
   "cell_type": "code",
   "execution_count": 6,
   "metadata": {
    "scrolled": true
   },
   "outputs": [
    {
     "name": "stdout",
     "output_type": "stream",
     "text": [
      "Hallo Yara\n"
     ]
    }
   ],
   "source": [
    "print(\"Hallo\",name)"
   ]
  },
  {
   "cell_type": "code",
   "execution_count": 18,
   "metadata": {},
   "outputs": [
    {
     "name": "stdout",
     "output_type": "stream",
     "text": [
      "4 ['0', 1, 2, 3]\n",
      "gerade 0\n",
      "ungerade 3\n",
      "gerade 6\n",
      "ungerade 9\n"
     ]
    }
   ],
   "source": [
    "# 1,2,3 \n",
    "\"\"\"\n",
    "komplet\n",
    "\n",
    "\n",
    "myNum = 2\n",
    "myStr = \"string\"\n",
    "Mystr = input(\"Deine Liebligszahl\")\n",
    "myNum = int(myStr)\n",
    "\"\"\"\n",
    "#myFloat = 12.34\n",
    "#print(\"datentyp von myFloat\" + str(type(myFloat)))\n",
    "\n",
    "\n",
    "myList = [1,2,3]\n",
    "myList.append(4)\n",
    "myList.insert(0,\"0\")\n",
    "myElement = myList.pop()\n",
    "print(myElement, myList)\n",
    "\n",
    "for i in myList:\n",
    "    myResult = int(i)*3\n",
    "    if (myResult % 2) == 0:\n",
    "        print(\"gerade\", myResult)\n",
    "    else:\n",
    "        print(\"ungerade\", myResult)"
   ]
  },
  {
   "cell_type": "code",
   "execution_count": 23,
   "metadata": {},
   "outputs": [
    {
     "name": "stdout",
     "output_type": "stream",
     "text": [
      "4\n",
      "0 Yara\n",
      "1 LERNE\n",
      "2 GERADE\n",
      "3 PYTHON\n"
     ]
    }
   ],
   "source": [
    "#name = input(\"wie ist dein name?\")\n",
    "\n",
    "myStr =\"iCH LERNE GERADE PYTHON\"\n",
    "myList = myStr.split(\" \")\n",
    "\n",
    "myList[0] = name\n",
    "\n",
    "print(len(myList))\n",
    "#da si ist das v und k das laufende Index\n",
    "for k, v in enumerate(myList):\n",
    "    print(k,v)"
   ]
  },
  {
   "cell_type": "code",
   "execution_count": 27,
   "metadata": {
    "scrolled": true
   },
   "outputs": [
    {
     "name": "stdout",
     "output_type": "stream",
     "text": [
      "Rückgabebetrag in der Form: Euro,cent3,51\n",
      "1x200\n",
      "1x100\n",
      "1x50\n",
      "1x1\n"
     ]
    }
   ],
   "source": [
    "#Eingabe -> 3,20\n",
    "#Ausgabe -> 1x 2 Euro\n",
    "#           1x 1 Euro\n",
    "#           1x 20 Cent\n",
    "\n",
    "#Vorgehensweise:\n",
    "# Nutzereingabe\n",
    "# auflistung möglicher münzen\n",
    "# Einheitliche Repräsentation des Geldbetrages\n",
    "# zwischenergebnis speichern\n",
    "\n",
    "\n",
    "#           0 1 2 3   4  5 6    7 \n",
    "waehrung = [1,2,5,10,20,50,100,200]\n",
    "ausgabe = [0, 0, 0,0,0 ,0 ,0  ,0  ]\n",
    "\n",
    "ausgabebetrag = input(\"Rückgabebetrag in der Form: Euro,cent\")\n",
    "aEuro = ausgabebetrag.split(\",\")\n",
    "\n",
    "#3,51 heist index 0 ist 3 und index 1 ist 51.\n",
    "\n",
    "euro = int(aEuro[0])  # int('3') -> int : 3\n",
    "cent = int(aEuro[1])\n",
    "\n",
    "temp = (euro*100) + cent    #351 cent\n",
    "\n",
    "# t=0   351 -> kann ich noch 200 abziehen?\n",
    "#       ja: also:351 - 200 = 151\n",
    "# t=1   151 -> kann ich noch 200 abziehen?\n",
    "#       nein: also: wechsle zur naechsten kleineren münze weiter. \n",
    "#        kann ich ...\n",
    "\n",
    "i= len(waehrung)-1  #8-1 =7\n",
    "\n",
    "while temp > 0:\n",
    "    if (temp - waehrung[i] >= 0):\n",
    "        ausgabe[i] = ausgabe[i] + 1   # Ausgabe um eine Münze erhöhen, kann auch als += 1\" geschrieben\n",
    "        temp = temp - waehrung[i]  # Temp betrag um den Wert der Münze reduzeren\n",
    "    else: \n",
    "        i= i - 1       # oder i-=1\n",
    "        \n",
    "i = len(waehrung)-1\n",
    "while i>=0:\n",
    "    if (ausgabe[i] >0):\n",
    "        print(str(ausgabe[i]) + \"x\" + str(waehrung[i]))\n",
    "    i-=1\n"
   ]
  },
  {
   "cell_type": "code",
   "execution_count": 1,
   "metadata": {
    "scrolled": false
   },
   "outputs": [
    {
     "name": "stdout",
     "output_type": "stream",
     "text": [
      "Geben Sie Laenge ein.4\n",
      "geben Sie Breite ein.4\n",
      "16\n"
     ]
    }
   ],
   "source": [
    "#Flächeninhalt Rechtecke:\n",
    "\n",
    "VarA = int(input(\"Geben Sie Laenge ein.\"))\n",
    "\n",
    "VarB = int(input(\"geben Sie Breite ein.\"))\n",
    "\n",
    "print(VarA * VarB)"
   ]
  },
  {
   "cell_type": "markdown",
   "metadata": {},
   "source": [
    "Prozessoptimierung:\n",
    "    . Problem ident. .. sauber Formuieren .. Untertitteln finden die,in der Problem beinhaltet sind.\n",
    "    . einzelne Punkte näher anshauen und dafür benötigte Daten kennen.\n",
    "    . sich mit den Eigene Daten auseinandersetzten und shauen was man daraus entnehmen kann\n",
    "    . sehen wie unser Daten weiter bringen und welche daten noch nutzlich sein könnten\n",
    "    . gewonnene Infos und Verhalten der Daten in eine Weise nutzen um zur möglichen behebung der gefundenen Fehlern zu gelangen\n",
    "    . eine passende Visualisierungsmethode finden\n",
    "    . Schlussfolgerungen präsentieren.\n",
    "\n",
    "\n",
    "\n",
    "\n",
    "\n",
    "Schritte: \n",
    "\"\"\"\n",
    "- informationen die wir aus den gegebennen Daten Gebraucht haben und was uns nicht daran nicht gefallen hat.\n",
    "(alles. Es waren soger sehr beschränkt. die waren:infos von nur einen Tag und waren Fehlerhaft [Fehlende Daten, keine Klare Ordnung z.B Keine Zeit Einheit, Keine Trennung der Bauteile\"ID\",...].)\n",
    "        \n",
    "- was wir damit machen könnten: welche Werte wir noch ermitteln bzw. korr. könnten:\n",
    "(z.B. ID-Nr., TZ und , Stats.Werte) + (siehe 1,2,...) +\n",
    "weiter mögliche Diagramme (z.B. Linien Dia. um das Allg. Zeitverlauf zu sehen -> kritische Zigzag Linien die nicht nach automatizierten Prozess sehen)\n",
    "\"\"\"\n",
    "\n",
    "\n",
    "- welche Analysen wir mit den bis jetzt gesammelten Daten feststellen könten:\n",
    "Ideen mit Hilfe der Diagramme erklähren (siehe 1,2,...) +\n",
    "was wir noch weiter machen könnten, also noch mögliche Diagramme (z.B. Linien Dia. um das Allg. Zeitverlauf zu sehen -> kritische Zigzag Linien die nicht nach automatizierten Prozess sehen)\n",
    "\n",
    "- was wir noch benötigen könnten um weitere analysen durchführen zu können:\n",
    "\n",
    "\n",
    "\n",
    "Analyse Ideen: wie sind wir darauf gekommen.\n",
    "1\n",
    "- DLZ Analyse: DLZ je ProdVar. und überprüfen ob es Abweichungen gibt, um zu sehen, ob es große Untrschiede zw. denen gibt. wenn ja: muss diese ProdVar. z.B. Teurer als die Anderen sein.\n",
    "= Balkendiagramm\n",
    "\n",
    "2\n",
    "- Engpassanalyse: Analyse DLZ innerhalb einer Var. zw. Stationen und überprüfen ob es Abweichungen gibt .. Station mit der längster Zeit identifizieren -> mögliche Gründe: Lange Bearbeitungszeit an der jenige Station\n",
    "= Kreisdiagramm\n",
    "\n",
    "3\n",
    "- Stand.Abw.: dort wo es groß ist Gründe finden + kommt es mehrmals vor? hier .. nur einmal,d.h. Ausreißer-> Gründe: Fehlende Material o. fehler an der Stelle.\n",
    "= ...(Visualisierung benötigt)\n",
    "\n",
    "\n",
    "4\n",
    "\n",
    "\n",
    "'weiter mögliche Diagramme (z.B. Linien Dia. um das Allg. Zeitverlauf zu sehen -> kritische Zigzag Linien die nicht nach automatizierten Prozess sehen)'"
   ]
  },
  {
   "cell_type": "code",
   "execution_count": null,
   "metadata": {},
   "outputs": [],
   "source": []
  }
 ],
 "metadata": {
  "kernelspec": {
   "display_name": "Python 3 (ipykernel)",
   "language": "python",
   "name": "python3"
  },
  "language_info": {
   "codemirror_mode": {
    "name": "ipython",
    "version": 3
   },
   "file_extension": ".py",
   "mimetype": "text/x-python",
   "name": "python",
   "nbconvert_exporter": "python",
   "pygments_lexer": "ipython3",
   "version": "3.9.12"
  }
 },
 "nbformat": 4,
 "nbformat_minor": 2
}
