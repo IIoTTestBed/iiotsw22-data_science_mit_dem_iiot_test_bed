{
 "cells": [
  {
   "cell_type": "markdown",
   "metadata": {},
   "source": [
    "# Einführung in die Python-Programmierung II"
   ]
  },
  {
   "cell_type": "markdown",
   "metadata": {},
   "source": [
    "## Aufgabe 3 aus Übung I\n",
    "\n",
    "1. Schreiben Sie ein Programm zur Berechnung des Flächeninhalts von Rechtecken.\n",
    "2. Die Seitenmaße sollen dabei individuell eingegeben werden können. Nutzen Sie dazu den input-Befehl. Recherchieren Sie ggf., wie sich der input-Befehl implementieren lässt (Eingabe bei Google: \"python input\").\n",
    "3. Der Flächeninhalt soll als Ergebnis ausgegeben werden.\n",
    "\n",
    "Führen Sie das Programm aus und prüfen Sie das Ergebnis!"
   ]
  },
  {
   "cell_type": "markdown",
   "metadata": {},
   "source": [
    "laenge = input(\"Geben Sie die Länge des Rechtecks ein: \")\n",
    "breite = input(\"Geben Sie die Breite des Rechtecks ein: \")\n",
    "flaeche = int(laenge) * int(breite)\n",
    "\n",
    "print(\"Die Fläche des Rechtecks beträgt\", flaeche, \"m2.\")"
   ]
  },
  {
   "cell_type": "markdown",
   "metadata": {},
   "source": [
    "#Nutzung von Funktionen\n",
    "\n",
    "def rechteckFlaeche(laenge, breite):\n",
    "    flaeche = laenge * breite\n",
    "    print(\"Die Fläche des Rechtecks beträgt\", flaeche, \"m2.\")\n",
    "    return\n",
    "\n",
    "rechteckFlaeche(6, 7)"
   ]
  },
  {
   "cell_type": "markdown",
   "metadata": {},
   "source": [
    "### Nutzung von Bibliotheken\n",
    "\n",
    "Ein Grund für die Beliebtheit von Python ist, dass es eine erstaunlich große Sammlung von Bibliotheken gibt, mit denen die Benutzer arbeiten können.\n",
    "\n",
    "Quelle: https://lerneprogrammieren.de/python-bibliotheken/\n",
    "<br>\n",
    "<br>\n",
    "<br>\n",
    "Eine Bibliothek ist eine Sammlung von Funktionen oder Klassen, die eine Programmiersprache um weitere Befehle erweitert.\n",
    "Bei Python spricht man von Modulen statt von Bibliotheken, das Prinzip ist aber dasselbe. \n",
    "Damit die Funktionen der Bibliothek verwendet werden können, muss die Bibliothek zunächst importiert werden. Das bedeutet, dass eine Zeile Code geschrieben werden muss, die die Datei mit den Klassen- und Funktionsdefinitionen unserer Entwicklungsumgebung hinzufügt. Einige Bibliotheken sind standardmäßig verfügbar, andere müssen extra hinzugefügt werden. <br>\n",
    "\n",
    "Quelle: https://www3.tuhh.de/itbh/informatik-202021/veranstaltungsskript/python/processingpy/programmiergrundlagen/bibliotheken/"
   ]
  },
  {
   "cell_type": "markdown",
   "metadata": {},
   "source": [
    "#pip install pandas   #Installation der Pandas-Bibliothek über die Konsole\n",
    "import pandas as pd   #Einfügen der Pandas-Bibliothek über die Abkürzung \"pd\""
   ]
  },
  {
   "cell_type": "markdown",
   "metadata": {},
   "source": [
    "### Bibliothek Pandas\n",
    "\n",
    "pandas ist ein schnelles, leistungsstarkes, flexibles und einfach zu bedienendes Open-Source-Werkzeug zur Datenanalyse und -manipulation, das auf der Programmiersprache Python aufbaut.\n",
    "\n",
    "Quelle: https://pandas.pydata.org/"
   ]
  },
  {
   "cell_type": "markdown",
   "metadata": {},
   "source": [
    "<img style=\"float: right;\" src=\"Bilder_IoT_WW/pandas_dataframe.png\" width=\"200\"> Wenn Sie mit tabellarischen Daten arbeiten, wie z.B. Daten, die in Tabellenkalkulationen oder Datenbanken gespeichert sind, ist pandas das richtige Werkzeug für Sie. pandas hilft Ihnen dabei, Ihre Daten zu untersuchen, zu bereinigen und zu verarbeiten. In pandas wird eine Datentabelle als DataFrame bezeichnet.\n",
    "\n",
    "Quelle: https://pandas.pydata.org/docs/getting_started/index.html"
   ]
  },
  {
   "cell_type": "markdown",
   "metadata": {},
   "source": [
    "<img style=\"float: right;\" src=\"Bilder_IoT_WW/pandas_read_to.png\" width=\"500\"> pandas unterstützt die Integration mit vielen Dateiformaten oder Datenquellen (csv, excel, sql, json, parquet,...) von Haus aus. Das Importieren von Daten aus jeder dieser Datenquellen wird durch Funktionen mit dem Präfix read_* bereitgestellt. In ähnlicher Weise werden die to_*-Methoden zum Speichern von Daten verwendet.\n",
    "\n",
    "Quelle: https://pandas.pydata.org/docs/getting_started/index.html"
   ]
  },
  {
   "cell_type": "code",
   "execution_count": null,
   "metadata": {},
   "outputs": [],
   "source": [
    "df = pd.read_csv(\"euerPfad/Dateiname.csv\", sep = \";\")\n",
    "df.head(n=10)"
   ]
  },
  {
   "cell_type": "markdown",
   "metadata": {},
   "source": [
    "<img style=\"float: right;\" src=\"Bilder_IoT_WW/pandas_functions.png\" width=\"400\"> In Pandas stehen Methoden zum Zerlegen, Auswählen und Extrahieren der benötigten Daten zur Verfügung.\n",
    "\n",
    "Quelle: https://pandas.pydata.org/docs/getting_started/index.html"
   ]
  },
  {
   "cell_type": "markdown",
   "metadata": {},
   "source": [
    "<img style=\"float: right;\" src=\"Bilder_IoT_WW/pandas_statistics.png\" width=\"400\"> Grundlegende Statistiken (Mittelwert, Median, Minimum, Maximum, Anzahl...) sind leicht zu berechnen. Diese oder benutzerdefinierte Aggregationen können auf den gesamten Datensatz, ein gleitendes Fenster der Daten oder gruppiert nach Kategorien angewendet werden. Letzteres wird auch als \"split-apply-combine\"-Ansatz bezeichnet.\n",
    "\n",
    "Quelle: https://pandas.pydata.org/docs/getting_started/index.html"
   ]
  },
  {
   "cell_type": "markdown",
   "metadata": {},
   "source": [
    "## Aufgabe\n",
    "\n",
    "Informieren Sie sich zu weiteren Möglichkeiten, welche pandas bietet: https://pandas.pydata.org/docs/getting_started/index.html <br>\n",
    "\n",
    "Wie würden Sie bei der Datenanalyse vorgehen, um für die entwickelten Problemstellungen Informationen zu generieren? <br>\n",
    "Welche Funktionen von pandas könnten Ihnen hierfür dienen? Hilfreiche Informationen finden Sie unter: https://pandas.pydata.org/docs/user_guide/index.html\n",
    "<br>(Orientierung an Fragen 03-06 der Methode von John B. Rollins)"
   ]
  },
  {
   "cell_type": "markdown",
   "metadata": {},
   "source": [
    "*... Ihre Anmerkungen ...*"
   ]
  },
  {
   "cell_type": "code",
   "execution_count": 8,
   "metadata": {
    "scrolled": true
   },
   "outputs": [
    {
     "data": {
      "text/plain": [
       "Produktvariante        0\n",
       "Prozessschritt         0\n",
       "Auftragsnummer         0\n",
       "Prozessbeschreibung    0\n",
       "Prozessnummer          0\n",
       "Startdatum             7\n",
       "Startzeit              7\n",
       "Enddatum               7\n",
       "Endzeit                7\n",
       "Arbeitsstation         0\n",
       "Transportzeit          0\n",
       "dtype: int64"
      ]
     },
     "execution_count": 8,
     "metadata": {},
     "output_type": "execute_result"
    }
   ],
   "source": [
    "#import pandas as pd\n",
    "#df =  pd.read_csv(\"C:/Users/Workshop/Desktop/IoT-Workshop_Woche/ProdTag_12_05_2021.csv\", sep = \";\")\n",
    "#df.head(n=10)\n",
    "\n",
    "df = pd.read_csv('C:/Users/Workshop/Desktop/IoT-Workshop_Woche/ProdTag_12_05_2021.csv', sep = \";\", na_values=['n/a'])\n",
    "\n",
    "df.isnull().values.any()\n",
    "df.isnull().sum()"
   ]
  },
  {
   "cell_type": "code",
   "execution_count": 3,
   "metadata": {},
   "outputs": [],
   "source": [
    "import pandas as pd\n",
    "df =  pd.read_csv(\"C:/Users/Workshop/Desktop/IoT-Workshop_Woche/ProdTag_12_05_2021.csv\", sep = \";\")\n",
    "df.head(n=10)"
   ]
  }
 ],
 "metadata": {
  "kernelspec": {
   "display_name": "Python 3 (ipykernel)",
   "language": "python",
   "name": "python3"
  },
  "language_info": {
   "codemirror_mode": {
    "name": "ipython",
    "version": 3
   },
   "file_extension": ".py",
   "mimetype": "text/x-python",
   "name": "python",
   "nbconvert_exporter": "python",
   "pygments_lexer": "ipython3",
   "version": "3.9.12"
  }
 },
 "nbformat": 4,
 "nbformat_minor": 2
}
