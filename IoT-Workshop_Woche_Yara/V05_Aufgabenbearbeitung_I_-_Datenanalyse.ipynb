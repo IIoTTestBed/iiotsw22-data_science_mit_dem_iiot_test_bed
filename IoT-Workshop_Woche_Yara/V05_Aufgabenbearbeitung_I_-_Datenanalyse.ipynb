{
 "cells": [
  {
   "cell_type": "markdown",
   "metadata": {},
   "source": [
    "# Aufgabenbearbeitung I - Datenanalyse\n",
    "<br>\n",
    "<br>\n",
    "Hinweise: https://pandas.pydata.org/docs/user_guide/index.html"
   ]
  },
  {
   "cell_type": "code",
   "execution_count": null,
   "metadata": {},
   "outputs": [],
   "source": [
    "import pandas as pd  #Einfügen der Pandas-Bibliothek über die Abkürzung \"pd\"\n",
    "import datetime      #um die Datentypen Datum und Zeit nutzen zu können"
   ]
  },
  {
   "cell_type": "code",
   "execution_count": 9,
   "metadata": {},
   "outputs": [
    {
     "name": "stdout",
     "output_type": "stream",
     "text": [
      "df.Startdatm\n"
     ]
    }
   ],
   "source": [
    "import pandas as pd\n",
    "df = pd.read_csv(\"C:/Users/Workshop/Desktop/IoT-Workshop_Woche/ProdTag_12_05_2021.csv\", sep = \";\")\n",
    "#df.head(n=10)\n",
    "\n",
    "df['Startdatum'] = pd.to_datetime(df.Startdatum)\n",
    "#print(type(df['Startdatum']))\n",
    "print(df)\n"
   ]
  },
  {
   "cell_type": "code",
   "execution_count": null,
   "metadata": {},
   "outputs": [],
   "source": []
  }
 ],
 "metadata": {
  "kernelspec": {
   "display_name": "Python 3 (ipykernel)",
   "language": "python",
   "name": "python3"
  },
  "language_info": {
   "codemirror_mode": {
    "name": "ipython",
    "version": 3
   },
   "file_extension": ".py",
   "mimetype": "text/x-python",
   "name": "python",
   "nbconvert_exporter": "python",
   "pygments_lexer": "ipython3",
   "version": "3.9.12"
  }
 },
 "nbformat": 4,
 "nbformat_minor": 2
}
